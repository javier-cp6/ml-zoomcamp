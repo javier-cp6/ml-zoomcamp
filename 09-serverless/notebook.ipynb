{
 "cells": [
  {
   "cell_type": "code",
   "execution_count": 1,
   "id": "c79ab100-f56c-41fb-a9ed-daba843239ef",
   "metadata": {
    "execution": {
     "iopub.execute_input": "2023-11-30T17:40:54.892138Z",
     "iopub.status.busy": "2023-11-30T17:40:54.891627Z",
     "iopub.status.idle": "2023-11-30T17:40:54.906973Z",
     "shell.execute_reply": "2023-11-30T17:40:54.906270Z",
     "shell.execute_reply.started": "2023-11-30T17:40:54.892062Z"
    },
    "tags": []
   },
   "outputs": [
    {
     "data": {
      "application/javascript": [
       "IPython.notebook.set_autosave_interval(0)"
      ]
     },
     "metadata": {},
     "output_type": "display_data"
    },
    {
     "name": "stdout",
     "output_type": "stream",
     "text": [
      "Autosave disabled\n"
     ]
    }
   ],
   "source": [
    "%autosave 0"
   ]
  },
  {
   "cell_type": "markdown",
   "id": "9b2a9b6d-c76d-46ed-9fce-52af02fa55ff",
   "metadata": {
    "tags": []
   },
   "source": [
    "# 1. TensorFlow Lite"
   ]
  },
  {
   "cell_type": "markdown",
   "id": "0db98dd3-01a6-4ee1-8e18-629f49662585",
   "metadata": {},
   "source": [
    "## Using a Keras pre-trained model"
   ]
  },
  {
   "cell_type": "code",
   "execution_count": 2,
   "id": "e4335cbe-9b1e-4665-ab61-4c63cc731ba9",
   "metadata": {
    "execution": {
     "iopub.execute_input": "2023-11-30T17:40:54.909981Z",
     "iopub.status.busy": "2023-11-30T17:40:54.909450Z",
     "iopub.status.idle": "2023-11-30T17:40:56.776679Z",
     "shell.execute_reply": "2023-11-30T17:40:56.775886Z",
     "shell.execute_reply.started": "2023-11-30T17:40:54.909951Z"
    },
    "tags": []
   },
   "outputs": [
    {
     "name": "stderr",
     "output_type": "stream",
     "text": [
      "2023-11-30 17:40:55.043291: I tensorflow/core/util/util.cc:169] oneDNN custom operations are on. You may see slightly different numerical results due to floating-point round-off errors from different computation orders. To turn them off, set the environment variable `TF_ENABLE_ONEDNN_OPTS=0`.\n"
     ]
    }
   ],
   "source": [
    "import tensorflow as tf\n",
    "from tensorflow import keras"
   ]
  },
  {
   "cell_type": "code",
   "execution_count": 3,
   "id": "2baa42fc-a739-4f7f-a53d-fb4bfe9dbe41",
   "metadata": {
    "execution": {
     "iopub.execute_input": "2023-11-30T17:40:56.778458Z",
     "iopub.status.busy": "2023-11-30T17:40:56.777864Z",
     "iopub.status.idle": "2023-11-30T17:40:57.401230Z",
     "shell.execute_reply": "2023-11-30T17:40:57.400438Z",
     "shell.execute_reply.started": "2023-11-30T17:40:56.778392Z"
    },
    "tags": []
   },
   "outputs": [
    {
     "name": "stdout",
     "output_type": "stream",
     "text": [
      "Python 3.9.13\n"
     ]
    }
   ],
   "source": [
    "!python -V"
   ]
  },
  {
   "cell_type": "code",
   "execution_count": 4,
   "id": "04c58a70-bfad-48ea-95d5-6efa3788e90a",
   "metadata": {
    "execution": {
     "iopub.execute_input": "2023-11-30T17:40:57.402691Z",
     "iopub.status.busy": "2023-11-30T17:40:57.402424Z",
     "iopub.status.idle": "2023-11-30T17:40:57.408631Z",
     "shell.execute_reply": "2023-11-30T17:40:57.408020Z",
     "shell.execute_reply.started": "2023-11-30T17:40:57.402667Z"
    },
    "tags": []
   },
   "outputs": [
    {
     "data": {
      "text/plain": [
       "'2.9.1'"
      ]
     },
     "execution_count": 4,
     "metadata": {},
     "output_type": "execute_result"
    }
   ],
   "source": [
    "tf.__version__"
   ]
  },
  {
   "cell_type": "markdown",
   "id": "648f12a5-ada6-4225-8cd0-0778e7ecb985",
   "metadata": {},
   "source": [
    "Download model from:  \n",
    "https://github.com/DataTalksClub/machine-learning-zoomcamp/releases"
   ]
  },
  {
   "cell_type": "code",
   "execution_count": 5,
   "id": "db69e980-558b-4c5f-aaeb-79960bfefeda",
   "metadata": {
    "execution": {
     "iopub.execute_input": "2023-11-30T17:40:57.409710Z",
     "iopub.status.busy": "2023-11-30T17:40:57.409483Z",
     "iopub.status.idle": "2023-11-30T17:40:57.412981Z",
     "shell.execute_reply": "2023-11-30T17:40:57.412378Z",
     "shell.execute_reply.started": "2023-11-30T17:40:57.409690Z"
    },
    "tags": []
   },
   "outputs": [],
   "source": [
    "# !wget https://github.com/DataTalksClub/machine-learning-zoomcamp/releases/download/chapter7-model/xception_v4_large_08_0.894.h5 -O clothing-model.h5"
   ]
  },
  {
   "cell_type": "code",
   "execution_count": 6,
   "id": "fecf0085-7da9-4c44-b0e1-118329e62f85",
   "metadata": {
    "execution": {
     "iopub.execute_input": "2023-11-30T17:40:57.414032Z",
     "iopub.status.busy": "2023-11-30T17:40:57.413783Z",
     "iopub.status.idle": "2023-11-30T17:40:59.663866Z",
     "shell.execute_reply": "2023-11-30T17:40:59.663262Z",
     "shell.execute_reply.started": "2023-11-30T17:40:57.414013Z"
    },
    "tags": []
   },
   "outputs": [
    {
     "name": "stderr",
     "output_type": "stream",
     "text": [
      "2023-11-30 17:40:57.558944: I tensorflow/stream_executor/cuda/cuda_gpu_executor.cc:975] successful NUMA node read from SysFS had negative value (-1), but there must be at least one NUMA node, so returning NUMA node zero\n",
      "2023-11-30 17:40:57.565933: I tensorflow/stream_executor/cuda/cuda_gpu_executor.cc:975] successful NUMA node read from SysFS had negative value (-1), but there must be at least one NUMA node, so returning NUMA node zero\n",
      "2023-11-30 17:40:57.566516: I tensorflow/stream_executor/cuda/cuda_gpu_executor.cc:975] successful NUMA node read from SysFS had negative value (-1), but there must be at least one NUMA node, so returning NUMA node zero\n",
      "2023-11-30 17:40:57.567434: I tensorflow/core/platform/cpu_feature_guard.cc:193] This TensorFlow binary is optimized with oneAPI Deep Neural Network Library (oneDNN) to use the following CPU instructions in performance-critical operations:  AVX2 AVX512F AVX512_VNNI FMA\n",
      "To enable them in other operations, rebuild TensorFlow with the appropriate compiler flags.\n",
      "2023-11-30 17:40:57.567770: I tensorflow/stream_executor/cuda/cuda_gpu_executor.cc:975] successful NUMA node read from SysFS had negative value (-1), but there must be at least one NUMA node, so returning NUMA node zero\n",
      "2023-11-30 17:40:57.568370: I tensorflow/stream_executor/cuda/cuda_gpu_executor.cc:975] successful NUMA node read from SysFS had negative value (-1), but there must be at least one NUMA node, so returning NUMA node zero\n",
      "2023-11-30 17:40:57.568933: I tensorflow/stream_executor/cuda/cuda_gpu_executor.cc:975] successful NUMA node read from SysFS had negative value (-1), but there must be at least one NUMA node, so returning NUMA node zero\n",
      "2023-11-30 17:40:58.184279: I tensorflow/stream_executor/cuda/cuda_gpu_executor.cc:975] successful NUMA node read from SysFS had negative value (-1), but there must be at least one NUMA node, so returning NUMA node zero\n",
      "2023-11-30 17:40:58.184967: I tensorflow/stream_executor/cuda/cuda_gpu_executor.cc:975] successful NUMA node read from SysFS had negative value (-1), but there must be at least one NUMA node, so returning NUMA node zero\n",
      "2023-11-30 17:40:58.185499: I tensorflow/stream_executor/cuda/cuda_gpu_executor.cc:975] successful NUMA node read from SysFS had negative value (-1), but there must be at least one NUMA node, so returning NUMA node zero\n",
      "2023-11-30 17:40:58.185990: I tensorflow/core/common_runtime/gpu/gpu_device.cc:1532] Created device /job:localhost/replica:0/task:0/device:GPU:0 with 13795 MB memory:  -> device: 0, name: Tesla T4, pci bus id: 0000:00:1e.0, compute capability: 7.5\n"
     ]
    }
   ],
   "source": [
    "model = keras.models.load_model('clothing-model.h5')"
   ]
  },
  {
   "cell_type": "code",
   "execution_count": 7,
   "id": "39c565a4-2a55-40f3-ad82-1997e13bac53",
   "metadata": {
    "execution": {
     "iopub.execute_input": "2023-11-30T17:40:59.666493Z",
     "iopub.status.busy": "2023-11-30T17:40:59.666191Z",
     "iopub.status.idle": "2023-11-30T17:41:00.464081Z",
     "shell.execute_reply": "2023-11-30T17:41:00.463292Z",
     "shell.execute_reply.started": "2023-11-30T17:40:59.666473Z"
    },
    "tags": []
   },
   "outputs": [
    {
     "name": "stdout",
     "output_type": "stream",
     "text": [
      "--2023-11-30 17:41:00--  http://bit.ly/mlbookcamp-pants\n",
      "Resolving bit.ly (bit.ly)... 67.199.248.11, 67.199.248.10\n",
      "Connecting to bit.ly (bit.ly)|67.199.248.11|:80... connected.\n",
      "HTTP request sent, awaiting response... 301 Moved Permanently\n",
      "Location: https://raw.githubusercontent.com/alexeygrigorev/clothing-dataset-small/master/test/pants/4aabd82c-82e1-4181-a84d-d0c6e550d26d.jpg [following]\n",
      "--2023-11-30 17:41:00--  https://raw.githubusercontent.com/alexeygrigorev/clothing-dataset-small/master/test/pants/4aabd82c-82e1-4181-a84d-d0c6e550d26d.jpg\n",
      "Resolving raw.githubusercontent.com (raw.githubusercontent.com)... 185.199.109.133, 185.199.111.133, 185.199.110.133, ...\n",
      "Connecting to raw.githubusercontent.com (raw.githubusercontent.com)|185.199.109.133|:443... connected.\n",
      "HTTP request sent, awaiting response... 200 OK\n",
      "Length: 23048 (23K) [image/jpeg]\n",
      "Saving to: ‘pants.jpg’\n",
      "\n",
      "pants.jpg           100%[===================>]  22.51K  --.-KB/s    in 0s      \n",
      "\n",
      "2023-11-30 17:41:00 (93.9 MB/s) - ‘pants.jpg’ saved [23048/23048]\n",
      "\n"
     ]
    }
   ],
   "source": [
    "# !wget http://bit.ly/mlbookcamp-pants -O pants.jpg"
   ]
  },
  {
   "cell_type": "code",
   "execution_count": 8,
   "id": "2da406d5-578c-43e7-9eae-b7bdbadff496",
   "metadata": {
    "execution": {
     "iopub.execute_input": "2023-11-30T17:41:00.465538Z",
     "iopub.status.busy": "2023-11-30T17:41:00.465245Z",
     "iopub.status.idle": "2023-11-30T17:41:00.472242Z",
     "shell.execute_reply": "2023-11-30T17:41:00.471456Z",
     "shell.execute_reply.started": "2023-11-30T17:41:00.465514Z"
    },
    "tags": []
   },
   "outputs": [],
   "source": [
    "import numpy as np\n",
    "from tensorflow.keras.preprocessing.image import load_img\n",
    "from tensorflow.keras.applications.xception import preprocess_input"
   ]
  },
  {
   "cell_type": "code",
   "execution_count": 9,
   "id": "159d9a6b-0818-49cd-8829-ce914526123a",
   "metadata": {
    "execution": {
     "iopub.execute_input": "2023-11-30T17:41:00.473806Z",
     "iopub.status.busy": "2023-11-30T17:41:00.473454Z",
     "iopub.status.idle": "2023-11-30T17:41:00.490917Z",
     "shell.execute_reply": "2023-11-30T17:41:00.490373Z",
     "shell.execute_reply.started": "2023-11-30T17:41:00.473777Z"
    },
    "tags": []
   },
   "outputs": [],
   "source": [
    "img = load_img('pants.jpg', target_size=(299, 299))"
   ]
  },
  {
   "cell_type": "code",
   "execution_count": 10,
   "id": "3814435d-e30c-4fa7-b698-69f5004c1ff4",
   "metadata": {
    "execution": {
     "iopub.execute_input": "2023-11-30T17:41:00.492775Z",
     "iopub.status.busy": "2023-11-30T17:41:00.491690Z",
     "iopub.status.idle": "2023-11-30T17:41:00.626099Z",
     "shell.execute_reply": "2023-11-30T17:41:00.625492Z",
     "shell.execute_reply.started": "2023-11-30T17:41:00.492751Z"
    },
    "tags": []
   },
   "outputs": [],
   "source": [
    "x = np.array(img)\n",
    "X = np.array([x])\n",
    "\n",
    "X = preprocess_input(X)"
   ]
  },
  {
   "cell_type": "code",
   "execution_count": 11,
   "id": "6681866c-f236-4712-bef2-c88724053c2e",
   "metadata": {
    "execution": {
     "iopub.execute_input": "2023-11-30T17:41:00.627363Z",
     "iopub.status.busy": "2023-11-30T17:41:00.626952Z",
     "iopub.status.idle": "2023-11-30T17:41:00.631411Z",
     "shell.execute_reply": "2023-11-30T17:41:00.630862Z",
     "shell.execute_reply.started": "2023-11-30T17:41:00.627340Z"
    },
    "tags": []
   },
   "outputs": [
    {
     "data": {
      "text/plain": [
       "(1, 299, 299, 3)"
      ]
     },
     "execution_count": 11,
     "metadata": {},
     "output_type": "execute_result"
    }
   ],
   "source": [
    "X.shape"
   ]
  },
  {
   "cell_type": "code",
   "execution_count": 12,
   "id": "4215e345-8635-4d98-9ccd-e6aa89738b5b",
   "metadata": {
    "execution": {
     "iopub.execute_input": "2023-11-30T17:41:00.632349Z",
     "iopub.status.busy": "2023-11-30T17:41:00.632156Z",
     "iopub.status.idle": "2023-11-30T17:41:03.255493Z",
     "shell.execute_reply": "2023-11-30T17:41:03.254844Z",
     "shell.execute_reply.started": "2023-11-30T17:41:00.632332Z"
    },
    "tags": []
   },
   "outputs": [
    {
     "name": "stderr",
     "output_type": "stream",
     "text": [
      "2023-11-30 17:41:01.934623: I tensorflow/stream_executor/cuda/cuda_dnn.cc:384] Loaded cuDNN version 8100\n",
      "2023-11-30 17:41:02.561296: I tensorflow/core/platform/default/subprocess.cc:304] Start cannot spawn child process: No such file or directory\n",
      "2023-11-30 17:41:02.562049: I tensorflow/core/platform/default/subprocess.cc:304] Start cannot spawn child process: No such file or directory\n",
      "2023-11-30 17:41:02.562097: W tensorflow/stream_executor/gpu/asm_compiler.cc:80] Couldn't get ptxas version string: INTERNAL: Couldn't invoke ptxas --version\n",
      "2023-11-30 17:41:02.562572: I tensorflow/core/platform/default/subprocess.cc:304] Start cannot spawn child process: No such file or directory\n",
      "2023-11-30 17:41:02.562662: W tensorflow/stream_executor/gpu/redzone_allocator.cc:314] INTERNAL: Failed to launch ptxas\n",
      "Relying on driver to perform ptx compilation. \n",
      "Modify $PATH to customize ptxas location.\n",
      "This message will be only logged once.\n"
     ]
    },
    {
     "name": "stdout",
     "output_type": "stream",
     "text": [
      "1/1 [==============================] - 3s 3s/step\n"
     ]
    }
   ],
   "source": [
    "preds = model.predict(X)"
   ]
  },
  {
   "cell_type": "code",
   "execution_count": 13,
   "id": "504f817b-b45b-4c7a-bdb1-d11bd34e7115",
   "metadata": {
    "execution": {
     "iopub.execute_input": "2023-11-30T17:41:03.257031Z",
     "iopub.status.busy": "2023-11-30T17:41:03.256662Z",
     "iopub.status.idle": "2023-11-30T17:41:03.261629Z",
     "shell.execute_reply": "2023-11-30T17:41:03.260915Z",
     "shell.execute_reply.started": "2023-11-30T17:41:03.257008Z"
    },
    "tags": []
   },
   "outputs": [
    {
     "data": {
      "text/plain": [
       "array([[-1.8682917, -4.761245 , -2.3169842, -1.06257  ,  9.887158 ,\n",
       "        -2.812433 , -3.666283 ,  3.2003632, -2.6023386, -4.835047 ]],\n",
       "      dtype=float32)"
      ]
     },
     "execution_count": 13,
     "metadata": {},
     "output_type": "execute_result"
    }
   ],
   "source": [
    "preds"
   ]
  },
  {
   "cell_type": "code",
   "execution_count": 14,
   "id": "4ff716fc-c347-49b2-80de-1144714b5012",
   "metadata": {
    "execution": {
     "iopub.execute_input": "2023-11-30T17:41:03.263354Z",
     "iopub.status.busy": "2023-11-30T17:41:03.262757Z",
     "iopub.status.idle": "2023-11-30T17:41:03.267586Z",
     "shell.execute_reply": "2023-11-30T17:41:03.266903Z",
     "shell.execute_reply.started": "2023-11-30T17:41:03.263323Z"
    },
    "tags": []
   },
   "outputs": [],
   "source": [
    "classes = [\n",
    "    'dress',\n",
    "    'hat',\n",
    "    'longsleeve',\n",
    "    'outwear',\n",
    "    'pants',\n",
    "    'shirt',\n",
    "    'shoes',\n",
    "    'shorts',\n",
    "    'skirt',\n",
    "    't-shirt'\n",
    "]"
   ]
  },
  {
   "cell_type": "code",
   "execution_count": 15,
   "id": "c422d7aa-11c9-4b08-b1a4-3b6f2a15731b",
   "metadata": {
    "execution": {
     "iopub.execute_input": "2023-11-30T17:41:03.269290Z",
     "iopub.status.busy": "2023-11-30T17:41:03.268686Z",
     "iopub.status.idle": "2023-11-30T17:41:03.274721Z",
     "shell.execute_reply": "2023-11-30T17:41:03.274054Z",
     "shell.execute_reply.started": "2023-11-30T17:41:03.269260Z"
    },
    "tags": []
   },
   "outputs": [
    {
     "data": {
      "text/plain": [
       "{'dress': -1.8682917,\n",
       " 'hat': -4.761245,\n",
       " 'longsleeve': -2.3169842,\n",
       " 'outwear': -1.06257,\n",
       " 'pants': 9.887158,\n",
       " 'shirt': -2.812433,\n",
       " 'shoes': -3.666283,\n",
       " 'shorts': 3.2003632,\n",
       " 'skirt': -2.6023386,\n",
       " 't-shirt': -4.835047}"
      ]
     },
     "execution_count": 15,
     "metadata": {},
     "output_type": "execute_result"
    }
   ],
   "source": [
    "# The zip function is used to combine elements from iterables.\n",
    "dict(zip(classes, preds[0]))"
   ]
  },
  {
   "cell_type": "markdown",
   "id": "5769cfa6-4fd7-4f38-91ec-8e20d6bc01f3",
   "metadata": {},
   "source": [
    "## Converting a Keras model to TF-Lite"
   ]
  },
  {
   "cell_type": "markdown",
   "id": "392b6f74-c45e-4e20-9af9-fe4442e92ed1",
   "metadata": {},
   "source": [
    "Documentation: https://www.tensorflow.org/lite/models/convert/convert_models#convert_a_savedmodel_recommended"
   ]
  },
  {
   "cell_type": "code",
   "execution_count": 16,
   "id": "fb71a1ab-47e9-4feb-a33a-e1e180a65e39",
   "metadata": {
    "execution": {
     "iopub.execute_input": "2023-11-30T17:41:03.276278Z",
     "iopub.status.busy": "2023-11-30T17:41:03.275685Z",
     "iopub.status.idle": "2023-11-30T17:41:29.689154Z",
     "shell.execute_reply": "2023-11-30T17:41:29.688386Z",
     "shell.execute_reply.started": "2023-11-30T17:41:03.276248Z"
    },
    "tags": []
   },
   "outputs": [
    {
     "name": "stderr",
     "output_type": "stream",
     "text": [
      "WARNING:absl:Found untraced functions such as _jit_compiled_convolution_op, _jit_compiled_convolution_op, _jit_compiled_convolution_op, _jit_compiled_convolution_op, _jit_compiled_convolution_op while saving (showing 5 of 40). These functions will not be directly callable after loading.\n"
     ]
    },
    {
     "name": "stdout",
     "output_type": "stream",
     "text": [
      "INFO:tensorflow:Assets written to: /tmp/tmp7o3bjw02/assets\n"
     ]
    },
    {
     "name": "stderr",
     "output_type": "stream",
     "text": [
      "INFO:tensorflow:Assets written to: /tmp/tmp7o3bjw02/assets\n",
      "2023-11-30 17:41:26.140431: W tensorflow/compiler/mlir/lite/python/tf_tfl_flatbuffer_helpers.cc:362] Ignored output_format.\n",
      "2023-11-30 17:41:26.140475: W tensorflow/compiler/mlir/lite/python/tf_tfl_flatbuffer_helpers.cc:365] Ignored drop_control_dependency.\n",
      "2023-11-30 17:41:26.141329: I tensorflow/cc/saved_model/reader.cc:43] Reading SavedModel from: /tmp/tmp7o3bjw02\n",
      "2023-11-30 17:41:26.168888: I tensorflow/cc/saved_model/reader.cc:81] Reading meta graph with tags { serve }\n",
      "2023-11-30 17:41:26.168923: I tensorflow/cc/saved_model/reader.cc:122] Reading SavedModel debug info (if present) from: /tmp/tmp7o3bjw02\n",
      "2023-11-30 17:41:26.257307: I tensorflow/compiler/mlir/mlir_graph_optimization_pass.cc:354] MLIR V1 optimization pass is not enabled\n",
      "2023-11-30 17:41:26.285687: I tensorflow/cc/saved_model/loader.cc:228] Restoring SavedModel bundle.\n",
      "2023-11-30 17:41:26.830886: I tensorflow/cc/saved_model/loader.cc:212] Running initialization op on SavedModel bundle at path: /tmp/tmp7o3bjw02\n",
      "2023-11-30 17:41:27.033464: I tensorflow/cc/saved_model/loader.cc:301] SavedModel load for tags { serve }; Status: success: OK. Took 892139 microseconds.\n",
      "2023-11-30 17:41:27.431250: I tensorflow/compiler/mlir/tensorflow/utils/dump_mlir_util.cc:263] disabling MLIR crash reproducer, set env var `MLIR_CRASH_REPRODUCER_DIRECTORY` to enable.\n"
     ]
    }
   ],
   "source": [
    "# Convert the model\n",
    "converter = tf.lite.TFLiteConverter.from_keras_model(model) # path to the SavedModel directory\n",
    "\n",
    "tflite_model = converter.convert()\n",
    "\n",
    "# Save the model. Update extension from .h5 to .tflite\n",
    "with open('clothing-model.tflite', 'wb') as f_out:\n",
    "    f_out.write(tflite_model)"
   ]
  },
  {
   "cell_type": "code",
   "execution_count": 17,
   "id": "53545348-5d7b-4e21-8679-3e826833bbee",
   "metadata": {
    "execution": {
     "iopub.execute_input": "2023-11-30T17:41:29.690273Z",
     "iopub.status.busy": "2023-11-30T17:41:29.690043Z",
     "iopub.status.idle": "2023-11-30T17:41:30.366887Z",
     "shell.execute_reply": "2023-11-30T17:41:30.365943Z",
     "shell.execute_reply.started": "2023-11-30T17:41:29.690255Z"
    },
    "tags": []
   },
   "outputs": [
    {
     "name": "stdout",
     "output_type": "stream",
     "text": [
      "total 163M\n",
      "-rw-r--r-- 1 jovyan jovyan 83M Dec  7  2021 clothing-model.h5\n",
      "-rw-r--r-- 1 jovyan jovyan 81M Nov 30 17:41 clothing-model.tflite\n",
      "-rw-r--r-- 1 jovyan jovyan 25K Nov 30 17:41 notebook.ipynb\n",
      "-rw-r--r-- 1 jovyan jovyan 23K Nov 30 17:41 pants.jpg\n"
     ]
    }
   ],
   "source": [
    "!ls -lh"
   ]
  },
  {
   "cell_type": "markdown",
   "id": "c2c30186-cb24-4aea-a082-bb820964a075",
   "metadata": {},
   "source": [
    "## Using a TF-Lite model"
   ]
  },
  {
   "cell_type": "code",
   "execution_count": 18,
   "id": "30249290-c476-41e7-b1f5-d6ee613b23a9",
   "metadata": {
    "execution": {
     "iopub.execute_input": "2023-11-30T17:41:30.368958Z",
     "iopub.status.busy": "2023-11-30T17:41:30.368467Z",
     "iopub.status.idle": "2023-11-30T17:41:30.373494Z",
     "shell.execute_reply": "2023-11-30T17:41:30.372734Z",
     "shell.execute_reply.started": "2023-11-30T17:41:30.368920Z"
    },
    "tags": []
   },
   "outputs": [],
   "source": [
    "import tensorflow.lite as tflite"
   ]
  },
  {
   "cell_type": "code",
   "execution_count": 19,
   "id": "c502d7c1-981a-4252-8b75-aa0a12523d08",
   "metadata": {
    "execution": {
     "iopub.execute_input": "2023-11-30T17:41:30.375111Z",
     "iopub.status.busy": "2023-11-30T17:41:30.374732Z",
     "iopub.status.idle": "2023-11-30T17:41:30.488577Z",
     "shell.execute_reply": "2023-11-30T17:41:30.487720Z",
     "shell.execute_reply.started": "2023-11-30T17:41:30.375081Z"
    },
    "tags": []
   },
   "outputs": [
    {
     "name": "stderr",
     "output_type": "stream",
     "text": [
      "INFO: Created TensorFlow Lite XNNPACK delegate for CPU.\n"
     ]
    }
   ],
   "source": [
    "# Load model\n",
    "interpreter = tflite.Interpreter(model_path='clothing-model.tflite')\n",
    "\n",
    "# Allocate memory for the input and output tensors.\n",
    "interpreter.allocate_tensors()\n",
    "\n",
    "input_index = interpreter.get_input_details()[0]['index']\n",
    "output_index = interpreter.get_output_details()[0]['index']"
   ]
  },
  {
   "cell_type": "code",
   "execution_count": 20,
   "id": "b5f67b61-7d3f-49ef-9083-abbe5629e597",
   "metadata": {
    "execution": {
     "iopub.execute_input": "2023-11-30T17:41:30.490424Z",
     "iopub.status.busy": "2023-11-30T17:41:30.489780Z",
     "iopub.status.idle": "2023-11-30T17:41:30.499124Z",
     "shell.execute_reply": "2023-11-30T17:41:30.498362Z",
     "shell.execute_reply.started": "2023-11-30T17:41:30.490388Z"
    },
    "tags": []
   },
   "outputs": [
    {
     "data": {
      "text/plain": [
       "[{'name': 'serving_default_input_8:0',\n",
       "  'index': 0,\n",
       "  'shape': array([  1, 299, 299,   3], dtype=int32),\n",
       "  'shape_signature': array([ -1, 299, 299,   3], dtype=int32),\n",
       "  'dtype': numpy.float32,\n",
       "  'quantization': (0.0, 0),\n",
       "  'quantization_parameters': {'scales': array([], dtype=float32),\n",
       "   'zero_points': array([], dtype=int32),\n",
       "   'quantized_dimension': 0},\n",
       "  'sparsity_parameters': {}}]"
      ]
     },
     "execution_count": 20,
     "metadata": {},
     "output_type": "execute_result"
    }
   ],
   "source": [
    "interpreter.get_input_details()"
   ]
  },
  {
   "cell_type": "code",
   "execution_count": 21,
   "id": "21480ad3-c6b6-4ec7-a34b-56c7807045b4",
   "metadata": {
    "execution": {
     "iopub.execute_input": "2023-11-30T17:41:30.500400Z",
     "iopub.status.busy": "2023-11-30T17:41:30.500047Z",
     "iopub.status.idle": "2023-11-30T17:41:30.506638Z",
     "shell.execute_reply": "2023-11-30T17:41:30.505942Z",
     "shell.execute_reply.started": "2023-11-30T17:41:30.500344Z"
    },
    "tags": []
   },
   "outputs": [
    {
     "data": {
      "text/plain": [
       "[{'name': 'StatefulPartitionedCall:0',\n",
       "  'index': 229,\n",
       "  'shape': array([ 1, 10], dtype=int32),\n",
       "  'shape_signature': array([-1, 10], dtype=int32),\n",
       "  'dtype': numpy.float32,\n",
       "  'quantization': (0.0, 0),\n",
       "  'quantization_parameters': {'scales': array([], dtype=float32),\n",
       "   'zero_points': array([], dtype=int32),\n",
       "   'quantized_dimension': 0},\n",
       "  'sparsity_parameters': {}}]"
      ]
     },
     "execution_count": 21,
     "metadata": {},
     "output_type": "execute_result"
    }
   ],
   "source": [
    "interpreter.get_output_details()"
   ]
  },
  {
   "cell_type": "code",
   "execution_count": 22,
   "id": "af23ca0e-a54c-44b3-9ebf-7a9b61438569",
   "metadata": {
    "execution": {
     "iopub.execute_input": "2023-11-30T17:41:30.512602Z",
     "iopub.status.busy": "2023-11-30T17:41:30.512314Z",
     "iopub.status.idle": "2023-11-30T17:41:30.770881Z",
     "shell.execute_reply": "2023-11-30T17:41:30.770166Z",
     "shell.execute_reply.started": "2023-11-30T17:41:30.512582Z"
    },
    "tags": []
   },
   "outputs": [],
   "source": [
    "interpreter.set_tensor(input_index, X)\n",
    "interpreter.invoke()\n",
    "preds = interpreter.get_tensor(output_index)"
   ]
  },
  {
   "cell_type": "code",
   "execution_count": 23,
   "id": "8c900926-e968-423a-829c-ab320869a298",
   "metadata": {
    "execution": {
     "iopub.execute_input": "2023-11-30T17:41:30.771985Z",
     "iopub.status.busy": "2023-11-30T17:41:30.771752Z",
     "iopub.status.idle": "2023-11-30T17:41:30.779736Z",
     "shell.execute_reply": "2023-11-30T17:41:30.779124Z",
     "shell.execute_reply.started": "2023-11-30T17:41:30.771966Z"
    },
    "tags": []
   },
   "outputs": [
    {
     "data": {
      "text/plain": [
       "{'dress': -1.8682916,\n",
       " 'hat': -4.7612457,\n",
       " 'longsleeve': -2.316979,\n",
       " 'outwear': -1.0625672,\n",
       " 'pants': 9.8871565,\n",
       " 'shirt': -2.8124275,\n",
       " 'shoes': -3.666287,\n",
       " 'shorts': 3.2003636,\n",
       " 'skirt': -2.6023414,\n",
       " 't-shirt': -4.8350444}"
      ]
     },
     "execution_count": 23,
     "metadata": {},
     "output_type": "execute_result"
    }
   ],
   "source": [
    "classes = [\n",
    "    'dress',\n",
    "    'hat',\n",
    "    'longsleeve',\n",
    "    'outwear',\n",
    "    'pants',\n",
    "    'shirt',\n",
    "    'shoes',\n",
    "    'shorts',\n",
    "    'skirt',\n",
    "    't-shirt'\n",
    "]\n",
    "\n",
    "dict(zip(classes, preds[0]))"
   ]
  },
  {
   "cell_type": "markdown",
   "id": "a89a51aa-23a8-4cd3-83e8-dc419a920843",
   "metadata": {},
   "source": [
    "## Removing TF dependency"
   ]
  },
  {
   "cell_type": "code",
   "execution_count": 24,
   "id": "b1dcfec9-c710-4d89-8d1d-8880ecf4b4c4",
   "metadata": {
    "execution": {
     "iopub.execute_input": "2023-11-30T17:41:30.781122Z",
     "iopub.status.busy": "2023-11-30T17:41:30.780765Z",
     "iopub.status.idle": "2023-11-30T17:41:30.784527Z",
     "shell.execute_reply": "2023-11-30T17:41:30.783833Z",
     "shell.execute_reply.started": "2023-11-30T17:41:30.781100Z"
    },
    "tags": []
   },
   "outputs": [],
   "source": [
    "from PIL import Image"
   ]
  },
  {
   "cell_type": "code",
   "execution_count": 25,
   "id": "bf1ca5c5-6b01-4391-a558-7af1b36945fd",
   "metadata": {
    "execution": {
     "iopub.execute_input": "2023-11-30T17:41:30.785627Z",
     "iopub.status.busy": "2023-11-30T17:41:30.785338Z",
     "iopub.status.idle": "2023-11-30T17:41:30.793230Z",
     "shell.execute_reply": "2023-11-30T17:41:30.792672Z",
     "shell.execute_reply.started": "2023-11-30T17:41:30.785600Z"
    },
    "tags": []
   },
   "outputs": [
    {
     "name": "stderr",
     "output_type": "stream",
     "text": [
      "/tmp/ipykernel_8855/2391656872.py:2: DeprecationWarning: NEAREST is deprecated and will be removed in Pillow 10 (2023-07-01). Use Resampling.NEAREST or Dither.NONE instead.\n",
      "  img = img.resize((299, 299), Image.NEAREST)\n"
     ]
    }
   ],
   "source": [
    "with Image.open('pants.jpg') as img:\n",
    "    img = img.resize((299, 299), Image.NEAREST)"
   ]
  },
  {
   "cell_type": "code",
   "execution_count": 26,
   "id": "189e83ba-5bc1-4fe2-8fbb-09744964edab",
   "metadata": {
    "execution": {
     "iopub.execute_input": "2023-11-30T17:41:30.794269Z",
     "iopub.status.busy": "2023-11-30T17:41:30.794012Z",
     "iopub.status.idle": "2023-11-30T17:41:30.797700Z",
     "shell.execute_reply": "2023-11-30T17:41:30.796929Z",
     "shell.execute_reply.started": "2023-11-30T17:41:30.794250Z"
    },
    "tags": []
   },
   "outputs": [],
   "source": [
    "# Normalize input. preprocess_input scales input pixels between -1 and 1.\n",
    "def preprocess_input(x):\n",
    "    x /= 127.5\n",
    "    x -= 1.\n",
    "    return x"
   ]
  },
  {
   "cell_type": "code",
   "execution_count": 27,
   "id": "2b3061c4-266c-4db6-b821-2ed1c5799760",
   "metadata": {
    "execution": {
     "iopub.execute_input": "2023-11-30T17:41:30.799281Z",
     "iopub.status.busy": "2023-11-30T17:41:30.798970Z",
     "iopub.status.idle": "2023-11-30T17:41:30.804659Z",
     "shell.execute_reply": "2023-11-30T17:41:30.803956Z",
     "shell.execute_reply.started": "2023-11-30T17:41:30.799252Z"
    },
    "tags": []
   },
   "outputs": [],
   "source": [
    "x = np.array(img, dtype='float32')\n",
    "X = np.array([x])\n",
    "\n",
    "X = preprocess_input(X)"
   ]
  },
  {
   "cell_type": "code",
   "execution_count": 28,
   "id": "0bfa9075-3497-4d11-afd5-a920c1816509",
   "metadata": {
    "execution": {
     "iopub.execute_input": "2023-11-30T17:41:30.806173Z",
     "iopub.status.busy": "2023-11-30T17:41:30.805834Z",
     "iopub.status.idle": "2023-11-30T17:41:31.041053Z",
     "shell.execute_reply": "2023-11-30T17:41:31.040161Z",
     "shell.execute_reply.started": "2023-11-30T17:41:30.806144Z"
    },
    "tags": []
   },
   "outputs": [],
   "source": [
    "interpreter.set_tensor(input_index, X)\n",
    "interpreter.invoke()\n",
    "preds = interpreter.get_tensor(output_index)"
   ]
  },
  {
   "cell_type": "code",
   "execution_count": 29,
   "id": "a6b76418-9c03-4bcf-b3fa-62a79038475e",
   "metadata": {
    "execution": {
     "iopub.execute_input": "2023-11-30T17:41:31.042825Z",
     "iopub.status.busy": "2023-11-30T17:41:31.042144Z",
     "iopub.status.idle": "2023-11-30T17:41:31.049138Z",
     "shell.execute_reply": "2023-11-30T17:41:31.048556Z",
     "shell.execute_reply.started": "2023-11-30T17:41:31.042791Z"
    },
    "tags": []
   },
   "outputs": [
    {
     "data": {
      "text/plain": [
       "{'dress': -1.8682916,\n",
       " 'hat': -4.7612457,\n",
       " 'longsleeve': -2.316979,\n",
       " 'outwear': -1.0625672,\n",
       " 'pants': 9.8871565,\n",
       " 'shirt': -2.8124275,\n",
       " 'shoes': -3.666287,\n",
       " 'shorts': 3.2003636,\n",
       " 'skirt': -2.6023414,\n",
       " 't-shirt': -4.8350444}"
      ]
     },
     "execution_count": 29,
     "metadata": {},
     "output_type": "execute_result"
    }
   ],
   "source": [
    "classes = [\n",
    "    'dress',\n",
    "    'hat',\n",
    "    'longsleeve',\n",
    "    'outwear',\n",
    "    'pants',\n",
    "    'shirt',\n",
    "    'shoes',\n",
    "    'shorts',\n",
    "    'skirt',\n",
    "    't-shirt'\n",
    "]\n",
    "\n",
    "dict(zip(classes, preds[0]))"
   ]
  },
  {
   "cell_type": "markdown",
   "id": "09067f93-0eec-421c-8f76-f91c8408119e",
   "metadata": {},
   "source": [
    "## Simpler way of doing it"
   ]
  },
  {
   "cell_type": "code",
   "execution_count": null,
   "id": "7d509706-6367-4c36-b151-b63526f708f1",
   "metadata": {
    "tags": []
   },
   "outputs": [],
   "source": [
    "# !pip install keras-image-helper"
   ]
  },
  {
   "cell_type": "code",
   "execution_count": null,
   "id": "ee85030b-1a4c-4530-81c2-0784a5e207c8",
   "metadata": {
    "tags": []
   },
   "outputs": [],
   "source": [
    "# !pip install --extra-index-url https://google-coral.github.io/py-repo/ tflite_runtime"
   ]
  },
  {
   "cell_type": "code",
   "execution_count": 1,
   "id": "ef377a0e-27c4-4559-8132-9d24ce444378",
   "metadata": {
    "execution": {
     "iopub.execute_input": "2023-11-30T17:42:40.950402Z",
     "iopub.status.busy": "2023-11-30T17:42:40.949914Z",
     "iopub.status.idle": "2023-11-30T17:42:41.077779Z",
     "shell.execute_reply": "2023-11-30T17:42:41.076442Z",
     "shell.execute_reply.started": "2023-11-30T17:42:40.950338Z"
    },
    "tags": []
   },
   "outputs": [],
   "source": [
    "# import tensorflow.lite as tflite\n",
    "import tflite_runtime.interpreter as tflite\n",
    "from keras_image_helper import create_preprocessor"
   ]
  },
  {
   "cell_type": "code",
   "execution_count": 2,
   "id": "64e049cf-0dfa-4f13-9e45-5262b445df33",
   "metadata": {
    "execution": {
     "iopub.execute_input": "2023-11-30T17:42:41.086940Z",
     "iopub.status.busy": "2023-11-30T17:42:41.086700Z",
     "iopub.status.idle": "2023-11-30T17:42:41.180812Z",
     "shell.execute_reply": "2023-11-30T17:42:41.180003Z",
     "shell.execute_reply.started": "2023-11-30T17:42:41.086920Z"
    },
    "tags": []
   },
   "outputs": [
    {
     "name": "stderr",
     "output_type": "stream",
     "text": [
      "INFO: Created TensorFlow Lite XNNPACK delegate for CPU.\n"
     ]
    }
   ],
   "source": [
    "interpreter = tflite.Interpreter(model_path='clothing-model.tflite')\n",
    "interpreter.allocate_tensors()\n",
    "\n",
    "input_index = interpreter.get_input_details()[0]['index']\n",
    "output_index = interpreter.get_output_details()[0]['index']"
   ]
  },
  {
   "cell_type": "code",
   "execution_count": 3,
   "id": "5f149a9b-c6d0-4c97-8a89-4cb8785ade7f",
   "metadata": {
    "execution": {
     "iopub.execute_input": "2023-11-30T17:42:41.182415Z",
     "iopub.status.busy": "2023-11-30T17:42:41.182035Z",
     "iopub.status.idle": "2023-11-30T17:42:41.186804Z",
     "shell.execute_reply": "2023-11-30T17:42:41.186085Z",
     "shell.execute_reply.started": "2023-11-30T17:42:41.182384Z"
    },
    "tags": []
   },
   "outputs": [],
   "source": [
    "preprocessor = create_preprocessor('xception', target_size=(299, 299))"
   ]
  },
  {
   "cell_type": "code",
   "execution_count": 4,
   "id": "b56a94f5-9dca-4021-aa33-c2e71a8c20cc",
   "metadata": {
    "execution": {
     "iopub.execute_input": "2023-11-30T17:42:41.187898Z",
     "iopub.status.busy": "2023-11-30T17:42:41.187635Z",
     "iopub.status.idle": "2023-11-30T17:42:41.272559Z",
     "shell.execute_reply": "2023-11-30T17:42:41.271899Z",
     "shell.execute_reply.started": "2023-11-30T17:42:41.187880Z"
    },
    "tags": []
   },
   "outputs": [],
   "source": [
    "url = 'http://bit.ly/mlbookcamp-pants'\n",
    "# X = preprocessor.from_path('image.jpg')\n",
    "X = preprocessor.from_url(url)"
   ]
  },
  {
   "cell_type": "code",
   "execution_count": 5,
   "id": "eb28b5cd-43ff-4131-bb05-8f69f1212892",
   "metadata": {
    "execution": {
     "iopub.execute_input": "2023-11-30T17:42:41.273944Z",
     "iopub.status.busy": "2023-11-30T17:42:41.273576Z",
     "iopub.status.idle": "2023-11-30T17:42:41.543648Z",
     "shell.execute_reply": "2023-11-30T17:42:41.543064Z",
     "shell.execute_reply.started": "2023-11-30T17:42:41.273914Z"
    },
    "tags": []
   },
   "outputs": [],
   "source": [
    "interpreter.set_tensor(input_index, X)\n",
    "interpreter.invoke()\n",
    "preds = interpreter.get_tensor(output_index)"
   ]
  },
  {
   "cell_type": "code",
   "execution_count": 6,
   "id": "b62916d1-5c6b-4833-afea-2e6c7875be0f",
   "metadata": {
    "execution": {
     "iopub.execute_input": "2023-11-30T17:42:41.547792Z",
     "iopub.status.busy": "2023-11-30T17:42:41.547591Z",
     "iopub.status.idle": "2023-11-30T17:42:41.558758Z",
     "shell.execute_reply": "2023-11-30T17:42:41.558065Z",
     "shell.execute_reply.started": "2023-11-30T17:42:41.547774Z"
    },
    "tags": []
   },
   "outputs": [
    {
     "data": {
      "text/plain": [
       "{'dress': -1.8682916,\n",
       " 'hat': -4.7612457,\n",
       " 'longsleeve': -2.316979,\n",
       " 'outwear': -1.0625672,\n",
       " 'pants': 9.8871565,\n",
       " 'shirt': -2.8124275,\n",
       " 'shoes': -3.666287,\n",
       " 'shorts': 3.2003636,\n",
       " 'skirt': -2.6023414,\n",
       " 't-shirt': -4.8350444}"
      ]
     },
     "execution_count": 6,
     "metadata": {},
     "output_type": "execute_result"
    }
   ],
   "source": [
    "classes = [\n",
    "    'dress',\n",
    "    'hat',\n",
    "    'longsleeve',\n",
    "    'outwear',\n",
    "    'pants',\n",
    "    'shirt',\n",
    "    'shoes',\n",
    "    'shorts',\n",
    "    'skirt',\n",
    "    't-shirt'\n",
    "]\n",
    "\n",
    "dict(zip(classes, preds[0]))"
   ]
  },
  {
   "cell_type": "markdown",
   "id": "25596ec9-e762-4845-a339-42b5d97fc11d",
   "metadata": {
    "tags": []
   },
   "source": [
    "# 2. AWS Lambda"
   ]
  },
  {
   "cell_type": "markdown",
   "id": "d22e5c95-53fa-456f-9965-768378558987",
   "metadata": {},
   "source": [
    "## Preparing the code for AWS Lamba"
   ]
  },
  {
   "cell_type": "markdown",
   "id": "26a23f42-bedc-4ded-b9ad-3859400df372",
   "metadata": {},
   "source": [
    "Run the following command to convert a Jupyter notebook into a Python script:\n",
    "\n",
    "```bash\n",
    "$ jupyter nbconvert --to script 'notebook.ipynb'\n",
    "```\n",
    "\n",
    "Edit script and save it as `lambda_function.py`."
   ]
  },
  {
   "cell_type": "markdown",
   "id": "d5fe6fe7-fa99-4428-b6af-7cb5981b5baf",
   "metadata": {},
   "source": [
    "Open a terminal and test the `predict` function in the script:\n",
    "\n",
    "```bash\n",
    "$ ipython\n",
    "\n",
    "import lambda_function\n",
    "lambda_function.predict(\"http://bit.ly/mlbookcamp-pants\")\n",
    "```\n",
    "\n",
    "```json\n",
    "{'dress': -1.8682916,\n",
    " 'hat': -4.7612457,\n",
    " 'longsleeve': -2.316979,\n",
    " 'outwear': -1.0625672,\n",
    " 'pants': 9.8871565,\n",
    " 'shirt': -2.8124275,\n",
    " 'shoes': -3.666287,\n",
    " 'shorts': 3.2003636,\n",
    " 'skirt': -2.6023414,\n",
    " 't-shirt': -4.8350444}\n",
    "```"
   ]
  },
  {
   "cell_type": "markdown",
   "id": "a03b4484-af72-4c54-b9d3-6f4486583165",
   "metadata": {},
   "source": [
    "Add the Lambda `lambda_handler` function to process events and test the script again:\n",
    "\n",
    "```bash\n",
    "$ ipython\n",
    "\n",
    "import lambda_function\n",
    "event = { 'url': 'http://bit.ly/mlbookcamp-pants'}\n",
    "lambda_function.lambda_handler(event, None)\n",
    "```"
   ]
  },
  {
   "cell_type": "markdown",
   "id": "a0d48943-d4b8-43f4-8ea9-068d7e3d13ba",
   "metadata": {
    "execution": {
     "iopub.execute_input": "2023-11-30T20:42:04.144739Z",
     "iopub.status.busy": "2023-11-30T20:42:04.144289Z",
     "iopub.status.idle": "2023-11-30T20:42:04.148634Z",
     "shell.execute_reply": "2023-11-30T20:42:04.147885Z",
     "shell.execute_reply.started": "2023-11-30T20:42:04.144656Z"
    }
   },
   "source": [
    "## Preparing a Docker image"
   ]
  },
  {
   "cell_type": "markdown",
   "id": "b86d9683-2ec8-46d2-b17a-ed5e0c469548",
   "metadata": {},
   "source": [
    "Create a Dockerfile using the following AWS Lambda base [image](https://gallery.ecr.aws/lambda/python):\n",
    "\n",
    "```\n",
    "FROM public.ecr.aws/lambda/python:3.10\n",
    "```\n",
    "TensorFlow Lite (`https://google-coral.github.io/py-repo/ tflite_runtime`) requires to be recompiled in the environment where we want to run it. We can use [tflite-aws-lambda](https://github.com/alexeygrigorev/tflite-aws-lambda) which contains compiled binaries for Amazon Linux (a CentOS-based distribution). Add the following command to the Dockerfile:\n",
    "\n",
    "```\n",
    "RUN pip install https://github.com/alexeygrigorev/tflite-aws-lambda/blob/main/tflite/tflite_runtime-2.7.0-cp38-cp38-linux_x86_64.whl\n",
    "```\n",
    "\n",
    "Build and run a Docker image:\n",
    "\n",
    "```bash\n",
    "$ docker build -t clothing-model .\n",
    "$ docker run -it --rm -p 8080:8080 clothing-model:latest\n",
    "```\n",
    "\n",
    "Run the `test.py` script. We expect to get an error since Lambda requires the `lambda_handler()` function to return a serializable output that can be converted into JSON format. To address this error, update `lambda_function.py` with the `tolist()` method, which converts predictions (\"preds\" are numpy arrays of type float32) into a Python list.\n",
    "\n",
    "Rebuild the Docker image and run the `test.py` script again."
   ]
  },
  {
   "cell_type": "markdown",
   "id": "8736bdff-24fd-45f2-b52d-4cf702c251e8",
   "metadata": {},
   "source": [
    "## Pushing a Docker image to an Amazon ECR repository"
   ]
  },
  {
   "cell_type": "markdown",
   "id": "b7da7452-7bf0-4165-9ca7-a8ec4859d9a1",
   "metadata": {},
   "source": [
    "Use the AWS CLI to create an Amazon ECR repository:\n",
    "\n",
    "```bash\n",
    "$ aws ecr create-repository --repository-name clothing-tflite-images\n",
    "```\n",
    "\n",
    "To authenticate your Docker client to your private ECR registry, run the following command:\n",
    "\n",
    "```bash\n",
    "$ aws ecr get-login-password --region <region> | docker login --username AWS --password-stdin <aws_account_id>.dkr.ecr.<region>.amazonaws.com\n",
    "```\n",
    "\n",
    "The ```aws ecr get-login-password``` command retrieves the password required to authenticate to your Amazon ECR registry using the docker login command, so you can pull and push images. Be sure that `<region>` matches the region in your registry URL. Also, update your `<aws_account_id>`. \n",
    "\n",
    "Tag the local image with the Amazon ECR registry:\n",
    "\n",
    "```bash\n",
    "$ PREFIX=<aws_account_id>.dkr.ecr.<region>.amazonaws.com/clothing-tflite-images\n",
    "$ TAG=clothing-model-xception-v1-001\n",
    "$ REMOTE_URI=${PREFIX}:${TAG}\n",
    "$ echo ${REMOTE_URI}\n",
    "\n",
    "$ docker tag clothing-model:latest ${REMOTE_URI}\n",
    "```\n",
    "\n",
    "Push the image using the docker push command:\n",
    "```bash\n",
    "$ docker push ${REMOTE_URI}\n",
    "```"
   ]
  },
  {
   "cell_type": "markdown",
   "id": "ce1b06b6-991f-4cdd-a231-16d3c7c93966",
   "metadata": {},
   "source": [
    "## Creating a Lambda function using a container image"
   ]
  },
  {
   "cell_type": "markdown",
   "id": "23951509-9e53-4915-a978-85681e7d3c74",
   "metadata": {},
   "source": [
    "Use the AWS console to create a Lambda function from the container image URI (REMOTE_URI). It might be necessary to update the available memory to 1024 MB and the timeout to 30 seconds in the General Configuration tab.\n",
    "\n",
    "The following event template in JSON format can be used in order to test the Lambda function:\n",
    "\n",
    "```JSON\n",
    "{\n",
    "  \"url\": \"http://bit.ly/mlbookcamp-pants\"\n",
    "}\n",
    "```\n",
    "\n",
    "Check AWS Lambda [pricing](https://aws.amazon.com/lambda/pricing/). For instance, the cost for a Lambda function running on an x86 architecture in the us-east-1 region, and using 1024 MB of memory, is $ 0.0000000167 per 1ms."
   ]
  },
  {
   "cell_type": "markdown",
   "id": "3c1adc86-1f61-415d-8110-d5290ece2c56",
   "metadata": {},
   "source": [
    "## Exposing the Lambda function: API Gateway"
   ]
  },
  {
   "cell_type": "markdown",
   "id": "38d719b3-f783-4e3c-a588-4968cc1817e1",
   "metadata": {},
   "source": [
    "Follow these steps to create an API Gateway on the AWS console:\n",
    "\n",
    "* Create a REST API named `clothing-classification`.\n",
    "* Add a new  resource called `predict`.\n",
    "* Create a new HTTP method (`POST`) and integrate it with the Lambda function.\n",
    "* Test the API gateway using the event template from the previous section.\n",
    "* Deploy the API assigning the stage name `test`. This will generate the invoke URL `https://<api_id>.execute-api.us-east-1.amazonaws.com/test`.\n",
    "* Update the `test.py` script with the API endpoint `<invoke URL>/predict` and run it to test the deployment.\n",
    "\n",
    "If successfull, it will return the following prediction:\n",
    "\n",
    "```JSON\n",
    "{'dress': -1.879865288734436,\n",
    " 'hat': -4.756308555603027,\n",
    " 'longsleeve': -2.359532594680786,\n",
    " 'outwear': -1.0892627239227295,\n",
    " 'pants': 9.903782844543457,\n",
    " 'shirt': -2.8261797428131104,\n",
    " 'shoes': -3.6483089923858643,\n",
    " 'shorts': 3.2411575317382812,\n",
    " 'skirt': -2.612095355987549,\n",
    " 't-shirt': -4.852032661437988}\n",
    "```"
   ]
  }
 ],
 "metadata": {
  "kernelspec": {
   "display_name": "saturn (Python 3)",
   "language": "python",
   "name": "python3"
  },
  "language_info": {
   "codemirror_mode": {
    "name": "ipython",
    "version": 3
   },
   "file_extension": ".py",
   "mimetype": "text/x-python",
   "name": "python",
   "nbconvert_exporter": "python",
   "pygments_lexer": "ipython3",
   "version": "3.9.13"
  }
 },
 "nbformat": 4,
 "nbformat_minor": 5
}
