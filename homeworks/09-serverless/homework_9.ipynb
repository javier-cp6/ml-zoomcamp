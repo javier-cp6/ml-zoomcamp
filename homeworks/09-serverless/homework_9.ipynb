{
 "cells": [
  {
   "cell_type": "markdown",
   "id": "717aae31-caaf-4956-8a6f-4bab5e89c9c2",
   "metadata": {},
   "source": [
    "## Homework\n",
    "\n",
    "In this homework, we'll deploy the bees vs wasps model we trained in the \n",
    "[previous homework](../08-deep-learning/homework.md).\n",
    "\n",
    "Download the model from here: \n",
    "\n",
    "https://github.com/alexeygrigorev/large-datasets/releases/download/wasps-bees/bees-wasps.h5\n",
    "\n",
    "\n",
    "\n",
    "## Question 1\n",
    "\n",
    "Now convert this model from Keras to TF-Lite format.\n",
    "\n",
    "What's the size of the **converted** model?\n",
    "\n",
    "* 21 Mb\n",
    "* 43 Mb\n",
    "* 80 Mb\n",
    "* 164 Mb\n",
    "\n",
    "\n",
    "## Question 2\n",
    "\n",
    "To be able to use this model, we need to know the index of the input and \n",
    "the index of the output. \n",
    "\n",
    "What's the output index for this model?\n",
    "\n",
    "* 3\n",
    "* 7\n",
    "* 13\n",
    "* 24\n",
    "\n",
    "\n",
    "## Preparing the image\n",
    "\n",
    "You'll need some code for downloading and resizing images. You can use \n",
    "this code:\n",
    "\n",
    "```python\n",
    "from io import BytesIO\n",
    "from urllib import request\n",
    "\n",
    "from PIL import Image\n",
    "\n",
    "def download_image(url):\n",
    "    with request.urlopen(url) as resp:\n",
    "        buffer = resp.read()\n",
    "    stream = BytesIO(buffer)\n",
    "    img = Image.open(stream)\n",
    "    return img\n",
    "\n",
    "\n",
    "def prepare_image(img, target_size):\n",
    "    if img.mode != 'RGB':\n",
    "        img = img.convert('RGB')\n",
    "    img = img.resize(target_size, Image.NEAREST)\n",
    "    return img\n",
    "```\n",
    "\n",
    "For that, you'll need to have `pillow` installed:\n",
    "\n",
    "```bash\n",
    "pip install pillow\n",
    "```\n",
    "\n",
    "Let's download and resize this image: \n",
    "\n",
    "https://habrastorage.org/webt/rt/d9/dh/rtd9dhsmhwrdezeldzoqgijdg8a.jpeg\n",
    "\n",
    "Based on the previous homework, what should be the target size for the image?\n",
    "\n",
    "\n",
    "## Question 3\n",
    "\n",
    "Now we need to turn the image into numpy array and pre-process it. \n",
    "\n",
    "> Tip: Check the previous homework. What was the pre-processing \n",
    "> we did there?\n",
    "\n",
    "After the pre-processing, what's the value in the first pixel, the R channel?\n",
    "\n",
    "* 0.3450980\n",
    "* 0.5450980\n",
    "* 0.7450980\n",
    "* 0.9450980\n",
    "\n",
    "\n",
    "\n",
    "## Question 4\n",
    "\n",
    "Now let's apply this model to this image. What's the output of the model?\n",
    "\n",
    "* 0.258\n",
    "* 0.458\n",
    "* 0.658\n",
    "* 0.858\n",
    "\n",
    "\n",
    "## Prepare the lambda code \n",
    "\n",
    "Now you need to copy all the code into a separate python file. You will \n",
    "need to use this file for the next two questions.\n",
    "\n",
    "Tip: you can test this file locally with `ipython` or Jupyter Notebook \n",
    "by importing the file and invoking the function from this file.  \n",
    "\n",
    "\n",
    "## Docker \n",
    "\n",
    "For the next two questions, we'll use a Docker image that we already \n",
    "prepared. This is the Dockerfile that we used for creating the image:\n",
    "\n",
    "```docker\n",
    "FROM public.ecr.aws/lambda/python:3.10\n",
    "COPY bees-wasps-v2.tflite .\n",
    "```\n",
    "\n",
    "And pushed it to [`agrigorev/zoomcamp-bees-wasps:v2`](https://hub.docker.com/r/agrigorev/zoomcamp-bees-wasps/tags).\n",
    "\n",
    "A few notes:\n",
    "\n",
    "* The image already contains a model and it's not the same model\n",
    "  as the one we used for questions 1-4.\n",
    "* The version of Python is 3.10, so you need to use the right wheel for \n",
    "  TF-Lite. For Tensorflow 2.14.0, it's https://github.com/alexeygrigorev/tflite-aws-lambda/raw/main/tflite/tflite_runtime-2.14.0-cp310-cp310-linux_x86_64.whl\n",
    "\n",
    "\n",
    "## Question 5\n",
    "\n",
    "Download the base image `agrigorev/zoomcamp-bees-wasps:v2`. You can easily make it by using [docker pull](https://docs.docker.com/engine/reference/commandline/pull/) command.\n",
    "\n",
    "So what's the size of this base image?\n",
    "\n",
    "* 162 Mb\n",
    "* 362 Mb\n",
    "* 662 Mb\n",
    "* 962 Mb\n",
    "\n",
    "You can get this information when running `docker images` - it'll be in the \"SIZE\" column.\n",
    "\n",
    "\n",
    "## Question 6\n",
    "\n",
    "Now let's extend this docker image, install all the required libraries\n",
    "and add the code for lambda.\n",
    "\n",
    "You don't need to include the model in the image. It's already included. \n",
    "The name of the file with the model is `bees-wasps-v2.tflite` and it's \n",
    "in the current workdir in the image (see the Dockerfile above for the \n",
    "reference). \n",
    "The provided model requires the same preprocessing for images regarding target size and rescaling the value range than used in homework 8.\n",
    "\n",
    "Now run the container locally.\n",
    "\n",
    "Score this image: https://habrastorage.org/webt/rt/d9/dh/rtd9dhsmhwrdezeldzoqgijdg8a.jpeg\n",
    "\n",
    "What's the output from the model?\n",
    "\n",
    "* 0.2453\n",
    "* 0.4453\n",
    "* 0.6453\n",
    "* 0.8453\n",
    "\n",
    "\n",
    "## Publishing it to AWS\n",
    "\n",
    "Now you can deploy your model to AWS!\n",
    "\n",
    "* Publish your image to ECR\n",
    "* Create a lambda function in AWS, use the ECR image\n",
    "* Give it more RAM and increase the timeout \n",
    "* Test it\n",
    "* Expose the lambda function using API Gateway\n",
    "\n",
    "This is optional and not graded.\n",
    "\n",
    "\n",
    "## Publishing to Docker hub\n",
    "\n",
    "This is just for reference, this is how we published our image to Docker hub:\n",
    "\n",
    "```bash\n",
    "docker build -t zoomcamp-bees-wasps -f homework.dockerfile .\n",
    "docker tag zoomcamp-bees-wasps:latest agrigorev/zoomcamp-bees-wasps:v2\n",
    "docker push agrigorev/zoomcamp-bees-wasps:v2\n",
    "```\n",
    "\n",
    "\n",
    "## Submit the results\n",
    "\n",
    "- Submit your results here: https://forms.gle/CrgtJVVs64DTGbCp9\n",
    "- If your answer doesn't match options exactly, select the closest one\n",
    "- You can submit your solution multiple times. In this case, only the last submission will be used\n",
    "\n",
    "\n",
    "## Deadline\n",
    "\n",
    "The deadline for submitting is November 27 (Monday), 23:00 CET. After that the form will be closed.\n"
   ]
  },
  {
   "cell_type": "markdown",
   "id": "96a625b3-5f00-481e-b8e1-2d864f29ad2c",
   "metadata": {},
   "source": [
    "## Converting a Keras model to TF-Lite"
   ]
  },
  {
   "cell_type": "code",
   "execution_count": 1,
   "id": "c7f8806a-85c5-4645-a367-53f8f513a0e3",
   "metadata": {
    "execution": {
     "iopub.execute_input": "2023-12-01T07:20:05.744249Z",
     "iopub.status.busy": "2023-12-01T07:20:05.743987Z",
     "iopub.status.idle": "2023-12-01T07:20:05.748031Z",
     "shell.execute_reply": "2023-12-01T07:20:05.747360Z",
     "shell.execute_reply.started": "2023-12-01T07:20:05.744194Z"
    },
    "tags": []
   },
   "outputs": [],
   "source": [
    "# Download the model:\n",
    "# !wget https://github.com/alexeygrigorev/large-datasets/releases/download/wasps-bees/bees-wasps.h5"
   ]
  },
  {
   "cell_type": "markdown",
   "id": "0a9618c1-8b36-4c89-bfcb-15216b813467",
   "metadata": {},
   "source": [
    "## Q1"
   ]
  },
  {
   "cell_type": "code",
   "execution_count": 2,
   "id": "07dea568-dfee-4e4e-beaf-678451b1ac71",
   "metadata": {
    "execution": {
     "iopub.execute_input": "2023-12-01T07:20:05.790435Z",
     "iopub.status.busy": "2023-12-01T07:20:05.790069Z",
     "iopub.status.idle": "2023-12-01T07:20:07.730014Z",
     "shell.execute_reply": "2023-12-01T07:20:07.729364Z",
     "shell.execute_reply.started": "2023-12-01T07:20:05.790413Z"
    },
    "tags": []
   },
   "outputs": [
    {
     "name": "stderr",
     "output_type": "stream",
     "text": [
      "2023-12-01 07:20:05.927438: I tensorflow/core/util/util.cc:169] oneDNN custom operations are on. You may see slightly different numerical results due to floating-point round-off errors from different computation orders. To turn them off, set the environment variable `TF_ENABLE_ONEDNN_OPTS=0`.\n"
     ]
    }
   ],
   "source": [
    "import tensorflow as tf\n",
    "from tensorflow import keras"
   ]
  },
  {
   "cell_type": "code",
   "execution_count": 3,
   "id": "59002421-a13e-4031-b8d7-8bb8245e062e",
   "metadata": {
    "execution": {
     "iopub.execute_input": "2023-12-01T07:20:07.733963Z",
     "iopub.status.busy": "2023-12-01T07:20:07.733703Z",
     "iopub.status.idle": "2023-12-01T07:20:07.742928Z",
     "shell.execute_reply": "2023-12-01T07:20:07.742291Z",
     "shell.execute_reply.started": "2023-12-01T07:20:07.733943Z"
    },
    "tags": []
   },
   "outputs": [
    {
     "data": {
      "text/plain": [
       "'2.9.1'"
      ]
     },
     "execution_count": 3,
     "metadata": {},
     "output_type": "execute_result"
    }
   ],
   "source": [
    "tf.__version__"
   ]
  },
  {
   "cell_type": "code",
   "execution_count": 4,
   "id": "3e5aa894-54d5-461c-b231-c24455dba325",
   "metadata": {
    "execution": {
     "iopub.execute_input": "2023-12-01T07:20:07.908190Z",
     "iopub.status.busy": "2023-12-01T07:20:07.907790Z",
     "iopub.status.idle": "2023-12-01T07:20:11.057079Z",
     "shell.execute_reply": "2023-12-01T07:20:11.056415Z",
     "shell.execute_reply.started": "2023-12-01T07:20:07.908166Z"
    },
    "tags": []
   },
   "outputs": [
    {
     "name": "stderr",
     "output_type": "stream",
     "text": [
      "2023-12-01 07:20:07.951173: I tensorflow/stream_executor/cuda/cuda_gpu_executor.cc:975] successful NUMA node read from SysFS had negative value (-1), but there must be at least one NUMA node, so returning NUMA node zero\n",
      "2023-12-01 07:20:07.958190: I tensorflow/stream_executor/cuda/cuda_gpu_executor.cc:975] successful NUMA node read from SysFS had negative value (-1), but there must be at least one NUMA node, so returning NUMA node zero\n",
      "2023-12-01 07:20:07.958807: I tensorflow/stream_executor/cuda/cuda_gpu_executor.cc:975] successful NUMA node read from SysFS had negative value (-1), but there must be at least one NUMA node, so returning NUMA node zero\n",
      "2023-12-01 07:20:07.959720: I tensorflow/core/platform/cpu_feature_guard.cc:193] This TensorFlow binary is optimized with oneAPI Deep Neural Network Library (oneDNN) to use the following CPU instructions in performance-critical operations:  AVX2 AVX512F AVX512_VNNI FMA\n",
      "To enable them in other operations, rebuild TensorFlow with the appropriate compiler flags.\n",
      "2023-12-01 07:20:07.960127: I tensorflow/stream_executor/cuda/cuda_gpu_executor.cc:975] successful NUMA node read from SysFS had negative value (-1), but there must be at least one NUMA node, so returning NUMA node zero\n",
      "2023-12-01 07:20:07.960848: I tensorflow/stream_executor/cuda/cuda_gpu_executor.cc:975] successful NUMA node read from SysFS had negative value (-1), but there must be at least one NUMA node, so returning NUMA node zero\n",
      "2023-12-01 07:20:07.961412: I tensorflow/stream_executor/cuda/cuda_gpu_executor.cc:975] successful NUMA node read from SysFS had negative value (-1), but there must be at least one NUMA node, so returning NUMA node zero\n",
      "2023-12-01 07:20:08.600063: I tensorflow/stream_executor/cuda/cuda_gpu_executor.cc:975] successful NUMA node read from SysFS had negative value (-1), but there must be at least one NUMA node, so returning NUMA node zero\n",
      "2023-12-01 07:20:08.600680: I tensorflow/stream_executor/cuda/cuda_gpu_executor.cc:975] successful NUMA node read from SysFS had negative value (-1), but there must be at least one NUMA node, so returning NUMA node zero\n",
      "2023-12-01 07:20:08.601199: I tensorflow/stream_executor/cuda/cuda_gpu_executor.cc:975] successful NUMA node read from SysFS had negative value (-1), but there must be at least one NUMA node, so returning NUMA node zero\n",
      "2023-12-01 07:20:08.601697: I tensorflow/core/common_runtime/gpu/gpu_device.cc:1532] Created device /job:localhost/replica:0/task:0/device:GPU:0 with 13795 MB memory:  -> device: 0, name: Tesla T4, pci bus id: 0000:00:1e.0, compute capability: 7.5\n",
      "WARNING:absl:Found untraced functions such as _jit_compiled_convolution_op while saving (showing 1 of 1). These functions will not be directly callable after loading.\n"
     ]
    },
    {
     "name": "stdout",
     "output_type": "stream",
     "text": [
      "INFO:tensorflow:Assets written to: /tmp/tmp3ixjm1cn/assets\n"
     ]
    },
    {
     "name": "stderr",
     "output_type": "stream",
     "text": [
      "INFO:tensorflow:Assets written to: /tmp/tmp3ixjm1cn/assets\n",
      "2023-12-01 07:20:09.957178: W tensorflow/compiler/mlir/lite/python/tf_tfl_flatbuffer_helpers.cc:362] Ignored output_format.\n",
      "2023-12-01 07:20:09.957227: W tensorflow/compiler/mlir/lite/python/tf_tfl_flatbuffer_helpers.cc:365] Ignored drop_control_dependency.\n",
      "2023-12-01 07:20:09.957885: I tensorflow/cc/saved_model/reader.cc:43] Reading SavedModel from: /tmp/tmp3ixjm1cn\n",
      "2023-12-01 07:20:09.958940: I tensorflow/cc/saved_model/reader.cc:81] Reading meta graph with tags { serve }\n",
      "2023-12-01 07:20:09.958965: I tensorflow/cc/saved_model/reader.cc:122] Reading SavedModel debug info (if present) from: /tmp/tmp3ixjm1cn\n",
      "2023-12-01 07:20:09.961699: I tensorflow/compiler/mlir/mlir_graph_optimization_pass.cc:354] MLIR V1 optimization pass is not enabled\n",
      "2023-12-01 07:20:09.962452: I tensorflow/cc/saved_model/loader.cc:228] Restoring SavedModel bundle.\n",
      "2023-12-01 07:20:10.006846: I tensorflow/cc/saved_model/loader.cc:212] Running initialization op on SavedModel bundle at path: /tmp/tmp3ixjm1cn\n",
      "2023-12-01 07:20:10.016193: I tensorflow/cc/saved_model/loader.cc:301] SavedModel load for tags { serve }; Status: success: OK. Took 58308 microseconds.\n",
      "2023-12-01 07:20:10.029236: I tensorflow/compiler/mlir/tensorflow/utils/dump_mlir_util.cc:263] disabling MLIR crash reproducer, set env var `MLIR_CRASH_REPRODUCER_DIRECTORY` to enable.\n"
     ]
    }
   ],
   "source": [
    "# Load the model\n",
    "model = keras.models.load_model('bees-wasps.h5', compile=False)\n",
    "\n",
    "# Convert the model\n",
    "converter = tf.lite.TFLiteConverter.from_keras_model(model) # path to the SavedModel directory\n",
    "\n",
    "tflite_model = converter.convert()\n",
    "\n",
    "# Save the model. Update extension from .h5 to .tflite\n",
    "with open('bees-wasps.tflite', 'wb') as f_out:\n",
    "    f_out.write(tflite_model)"
   ]
  },
  {
   "cell_type": "code",
   "execution_count": 5,
   "id": "bf9e8188-a4e9-4005-b5e9-18505562bdab",
   "metadata": {
    "execution": {
     "iopub.execute_input": "2023-12-01T07:20:11.058719Z",
     "iopub.status.busy": "2023-12-01T07:20:11.058439Z",
     "iopub.status.idle": "2023-12-01T07:20:11.700984Z",
     "shell.execute_reply": "2023-12-01T07:20:11.700139Z",
     "shell.execute_reply.started": "2023-12-01T07:20:11.058698Z"
    },
    "tags": []
   },
   "outputs": [
    {
     "name": "stdout",
     "output_type": "stream",
     "text": [
      "43M\tbees-wasps.tflite\n"
     ]
    }
   ],
   "source": [
    "!du -h bees-wasps.tflite"
   ]
  },
  {
   "cell_type": "markdown",
   "id": "ef00319c-c7ba-4533-8e89-abab2fc4a28f",
   "metadata": {},
   "source": [
    "Answer: `43 Mb`"
   ]
  },
  {
   "cell_type": "markdown",
   "id": "087f5199-1239-4b90-8254-bdf0d0ce168f",
   "metadata": {},
   "source": [
    "## Using a TF-Lite model"
   ]
  },
  {
   "cell_type": "code",
   "execution_count": 6,
   "id": "647d5c56-7a33-4f4b-a871-2cd26bf1e158",
   "metadata": {
    "execution": {
     "iopub.execute_input": "2023-12-01T07:20:13.457518Z",
     "iopub.status.busy": "2023-12-01T07:20:13.457115Z",
     "iopub.status.idle": "2023-12-01T07:20:13.461315Z",
     "shell.execute_reply": "2023-12-01T07:20:13.460500Z",
     "shell.execute_reply.started": "2023-12-01T07:20:13.457491Z"
    },
    "tags": []
   },
   "outputs": [],
   "source": [
    "import tensorflow.lite as tflite"
   ]
  },
  {
   "cell_type": "code",
   "execution_count": 7,
   "id": "4bff811f-6927-4048-85c1-9c0ad7b09d9b",
   "metadata": {
    "execution": {
     "iopub.execute_input": "2023-12-01T07:20:13.877784Z",
     "iopub.status.busy": "2023-12-01T07:20:13.877404Z",
     "iopub.status.idle": "2023-12-01T07:20:13.930438Z",
     "shell.execute_reply": "2023-12-01T07:20:13.929692Z",
     "shell.execute_reply.started": "2023-12-01T07:20:13.877762Z"
    },
    "tags": []
   },
   "outputs": [
    {
     "name": "stderr",
     "output_type": "stream",
     "text": [
      "INFO: Created TensorFlow Lite XNNPACK delegate for CPU.\n"
     ]
    }
   ],
   "source": [
    "# Load model\n",
    "interpreter = tflite.Interpreter(model_path='bees-wasps.tflite')\n",
    "\n",
    "# Allocate memory for the input and output tensors.\n",
    "interpreter.allocate_tensors()\n",
    "\n",
    "input_index = interpreter.get_input_details()[0]['index']\n",
    "output_index = interpreter.get_output_details()[0]['index']"
   ]
  },
  {
   "cell_type": "markdown",
   "id": "c3cd130d-f960-432e-9eaf-e8c7d78dd884",
   "metadata": {},
   "source": [
    "## Q2"
   ]
  },
  {
   "cell_type": "code",
   "execution_count": 8,
   "id": "57e8f365-3925-4edc-9f2f-fd4d5fd59c6b",
   "metadata": {
    "execution": {
     "iopub.execute_input": "2023-12-01T07:20:15.575249Z",
     "iopub.status.busy": "2023-12-01T07:20:15.574881Z",
     "iopub.status.idle": "2023-12-01T07:20:15.580259Z",
     "shell.execute_reply": "2023-12-01T07:20:15.579480Z",
     "shell.execute_reply.started": "2023-12-01T07:20:15.575226Z"
    },
    "tags": []
   },
   "outputs": [
    {
     "data": {
      "text/plain": [
       "13"
      ]
     },
     "execution_count": 8,
     "metadata": {},
     "output_type": "execute_result"
    }
   ],
   "source": [
    "output_index"
   ]
  },
  {
   "cell_type": "markdown",
   "id": "b2558534-7fc5-4ba3-9974-05ee3e4ac4a1",
   "metadata": {
    "execution": {
     "iopub.execute_input": "2023-12-01T06:31:35.519872Z",
     "iopub.status.busy": "2023-12-01T06:31:35.519467Z",
     "iopub.status.idle": "2023-12-01T06:31:35.524613Z",
     "shell.execute_reply": "2023-12-01T06:31:35.523567Z",
     "shell.execute_reply.started": "2023-12-01T06:31:35.519843Z"
    }
   },
   "source": [
    "Answer: `13`"
   ]
  },
  {
   "cell_type": "markdown",
   "id": "8e6c2291-a6a5-480c-b81a-230b0fed24d9",
   "metadata": {},
   "source": [
    "## Preparing the image"
   ]
  },
  {
   "cell_type": "code",
   "execution_count": 9,
   "id": "8e7a5ec3-2303-4969-9343-9caa7cd67980",
   "metadata": {
    "execution": {
     "iopub.execute_input": "2023-12-01T07:20:17.949798Z",
     "iopub.status.busy": "2023-12-01T07:20:17.949424Z",
     "iopub.status.idle": "2023-12-01T07:20:17.953475Z",
     "shell.execute_reply": "2023-12-01T07:20:17.952639Z",
     "shell.execute_reply.started": "2023-12-01T07:20:17.949775Z"
    },
    "tags": []
   },
   "outputs": [],
   "source": [
    "url = \"https://habrastorage.org/webt/rt/d9/dh/rtd9dhsmhwrdezeldzoqgijdg8a.jpeg\""
   ]
  },
  {
   "cell_type": "code",
   "execution_count": 10,
   "id": "1c0a8233-30dc-497d-aec4-a99514c22b76",
   "metadata": {
    "execution": {
     "iopub.execute_input": "2023-12-01T07:20:19.524947Z",
     "iopub.status.busy": "2023-12-01T07:20:19.524566Z",
     "iopub.status.idle": "2023-12-01T07:20:19.530110Z",
     "shell.execute_reply": "2023-12-01T07:20:19.529276Z",
     "shell.execute_reply.started": "2023-12-01T07:20:19.524924Z"
    },
    "tags": []
   },
   "outputs": [],
   "source": [
    "from io import BytesIO\n",
    "from urllib import request\n",
    "\n",
    "from PIL import Image\n",
    "\n",
    "def download_image(url):\n",
    "    with request.urlopen(url) as resp:\n",
    "        buffer = resp.read()\n",
    "    stream = BytesIO(buffer)\n",
    "    img = Image.open(stream)\n",
    "    return img\n",
    "\n",
    "\n",
    "def prepare_image(img, target_size):\n",
    "    if img.mode != 'RGB':\n",
    "        img = img.convert('RGB')\n",
    "    img = img.resize(target_size, Image.NEAREST)\n",
    "    return img"
   ]
  },
  {
   "cell_type": "code",
   "execution_count": 11,
   "id": "c81801f7-ef4e-4e06-91a8-82f8882af6e5",
   "metadata": {
    "execution": {
     "iopub.execute_input": "2023-12-01T07:20:20.870411Z",
     "iopub.status.busy": "2023-12-01T07:20:20.870032Z",
     "iopub.status.idle": "2023-12-01T07:20:21.852961Z",
     "shell.execute_reply": "2023-12-01T07:20:21.852093Z",
     "shell.execute_reply.started": "2023-12-01T07:20:20.870387Z"
    },
    "tags": []
   },
   "outputs": [
    {
     "name": "stderr",
     "output_type": "stream",
     "text": [
      "/tmp/ipykernel_2565/2487457277.py:17: DeprecationWarning: NEAREST is deprecated and will be removed in Pillow 10 (2023-07-01). Use Resampling.NEAREST or Dither.NONE instead.\n",
      "  img = img.resize(target_size, Image.NEAREST)\n"
     ]
    }
   ],
   "source": [
    "img = download_image(url)\n",
    "img = prepare_image(img, (150, 150))"
   ]
  },
  {
   "cell_type": "code",
   "execution_count": 12,
   "id": "f603dd31-753e-4cb7-9a3e-e7658be743bf",
   "metadata": {
    "execution": {
     "iopub.execute_input": "2023-12-01T07:20:22.902858Z",
     "iopub.status.busy": "2023-12-01T07:20:22.902456Z",
     "iopub.status.idle": "2023-12-01T07:20:22.906271Z",
     "shell.execute_reply": "2023-12-01T07:20:22.905515Z",
     "shell.execute_reply.started": "2023-12-01T07:20:22.902835Z"
    },
    "tags": []
   },
   "outputs": [],
   "source": [
    "import numpy as np"
   ]
  },
  {
   "cell_type": "code",
   "execution_count": 15,
   "id": "521785a2-965e-4739-b0b8-a9820082d009",
   "metadata": {
    "execution": {
     "iopub.execute_input": "2023-12-01T07:21:06.386569Z",
     "iopub.status.busy": "2023-12-01T07:21:06.386173Z",
     "iopub.status.idle": "2023-12-01T07:21:06.391395Z",
     "shell.execute_reply": "2023-12-01T07:21:06.390533Z",
     "shell.execute_reply.started": "2023-12-01T07:21:06.386545Z"
    },
    "tags": []
   },
   "outputs": [],
   "source": [
    "# Normalize input. preprocess_input scales input pixels between -1 and 1.\n",
    "def preprocess_input(x):\n",
    "    # x /= 127.5\n",
    "    # x -= 1.\n",
    "    # x /= 255\n",
    "    return x / 255.0\n",
    "\n",
    "x = np.array(img, dtype='float32')\n",
    "X = np.array([x])\n",
    "\n",
    "X = preprocess_input(X)"
   ]
  },
  {
   "cell_type": "markdown",
   "id": "8ba7a565-2cfa-4a7e-9f06-5db3ea3bba82",
   "metadata": {},
   "source": [
    "## Q3"
   ]
  },
  {
   "cell_type": "code",
   "execution_count": 16,
   "id": "c7077953-ab6f-4dc9-a6e4-f2fae8cff9d4",
   "metadata": {
    "execution": {
     "iopub.execute_input": "2023-12-01T07:21:08.893104Z",
     "iopub.status.busy": "2023-12-01T07:21:08.892710Z",
     "iopub.status.idle": "2023-12-01T07:21:08.899120Z",
     "shell.execute_reply": "2023-12-01T07:21:08.898460Z",
     "shell.execute_reply.started": "2023-12-01T07:21:08.893079Z"
    },
    "tags": []
   },
   "outputs": [
    {
     "data": {
      "text/plain": [
       "array([[[[0.94509804, 0.90588236, 0.85882354],\n",
       "         [0.9372549 , 0.92156863, 0.9764706 ],\n",
       "         [0.9137255 , 0.8980392 , 0.95686275],\n",
       "         ...,\n",
       "         [0.2901961 , 0.33333334, 0.16470589],\n",
       "         [0.34901962, 0.40784314, 0.15294118],\n",
       "         [0.29803923, 0.36078432, 0.11764706]],\n",
       "\n",
       "        [[0.9490196 , 0.9098039 , 0.87058824],\n",
       "         [0.91764706, 0.9098039 , 0.9607843 ],\n",
       "         [0.9019608 , 0.89411765, 0.9490196 ],\n",
       "         ...,\n",
       "         [0.27450982, 0.3372549 , 0.16078432],\n",
       "         [0.47058824, 0.5058824 , 0.1882353 ],\n",
       "         [0.4509804 , 0.49411765, 0.18431373]],\n",
       "\n",
       "        [[0.92941177, 0.88235295, 0.81960785],\n",
       "         [0.9137255 , 0.9098039 , 0.9647059 ],\n",
       "         [0.90588236, 0.89411765, 0.9607843 ],\n",
       "         ...,\n",
       "         [0.32156864, 0.3764706 , 0.1764706 ],\n",
       "         [0.5058824 , 0.5254902 , 0.20392157],\n",
       "         [0.43137255, 0.46666667, 0.20392157]],\n",
       "\n",
       "        ...,\n",
       "\n",
       "        [[0.03137255, 0.06666667, 0.04705882],\n",
       "         [0.02352941, 0.08627451, 0.04705882],\n",
       "         [0.08235294, 0.08235294, 0.09019608],\n",
       "         ...,\n",
       "         [0.44313726, 0.36078432, 0.05098039],\n",
       "         [0.16862746, 0.1764706 , 0.12156863],\n",
       "         [0.1254902 , 0.15686275, 0.11372549]],\n",
       "\n",
       "        [[0.03137255, 0.06666667, 0.04705882],\n",
       "         [0.07843138, 0.11764706, 0.08627451],\n",
       "         [0.05490196, 0.09803922, 0.07450981],\n",
       "         ...,\n",
       "         [0.32156864, 0.26666668, 0.07450981],\n",
       "         [0.12156863, 0.13333334, 0.10588235],\n",
       "         [0.09411765, 0.11372549, 0.09019608]],\n",
       "\n",
       "        [[0.01960784, 0.03921569, 0.02352941],\n",
       "         [0.08627451, 0.11372549, 0.08235294],\n",
       "         [0.10196079, 0.12156863, 0.09411765],\n",
       "         ...,\n",
       "         [0.16470589, 0.1764706 , 0.10980392],\n",
       "         [0.13333334, 0.15686275, 0.11764706],\n",
       "         [0.09803922, 0.11764706, 0.09019608]]]], dtype=float32)"
      ]
     },
     "execution_count": 16,
     "metadata": {},
     "output_type": "execute_result"
    }
   ],
   "source": [
    "X"
   ]
  },
  {
   "cell_type": "markdown",
   "id": "a5d78d05-e905-4ab6-b6ba-4908ed4ec59f",
   "metadata": {},
   "source": [
    "Answer: `0.9450980`"
   ]
  },
  {
   "cell_type": "markdown",
   "id": "8c31e191-c287-41e6-b120-753c75af0950",
   "metadata": {},
   "source": [
    "## Q4"
   ]
  },
  {
   "cell_type": "code",
   "execution_count": 17,
   "id": "97eed836-09a1-4bc5-8ddb-9a499741b861",
   "metadata": {
    "execution": {
     "iopub.execute_input": "2023-12-01T07:21:13.812497Z",
     "iopub.status.busy": "2023-12-01T07:21:13.812097Z",
     "iopub.status.idle": "2023-12-01T07:21:13.823427Z",
     "shell.execute_reply": "2023-12-01T07:21:13.822737Z",
     "shell.execute_reply.started": "2023-12-01T07:21:13.812474Z"
    },
    "tags": []
   },
   "outputs": [],
   "source": [
    "interpreter.set_tensor(input_index, X)\n",
    "interpreter.invoke()\n",
    "preds = interpreter.get_tensor(output_index)"
   ]
  },
  {
   "cell_type": "code",
   "execution_count": 18,
   "id": "72ffb089-1af6-40b1-aeb2-407e2b324d55",
   "metadata": {
    "execution": {
     "iopub.execute_input": "2023-12-01T07:21:24.054366Z",
     "iopub.status.busy": "2023-12-01T07:21:24.053983Z",
     "iopub.status.idle": "2023-12-01T07:21:24.059240Z",
     "shell.execute_reply": "2023-12-01T07:21:24.058496Z",
     "shell.execute_reply.started": "2023-12-01T07:21:24.054343Z"
    }
   },
   "outputs": [
    {
     "data": {
      "text/plain": [
       "array([[0.65898407]], dtype=float32)"
      ]
     },
     "execution_count": 18,
     "metadata": {},
     "output_type": "execute_result"
    }
   ],
   "source": [
    "preds"
   ]
  },
  {
   "cell_type": "markdown",
   "id": "fffcfadb-f133-410b-add3-86f5270f53da",
   "metadata": {},
   "source": [
    "Answer: `0.658`"
   ]
  },
  {
   "cell_type": "markdown",
   "id": "3d3e7049-ae00-4d5c-9d94-ccc120637fdf",
   "metadata": {},
   "source": [
    "## Prepare the Lambda code "
   ]
  },
  {
   "cell_type": "code",
   "execution_count": 1,
   "id": "2a418e86-40c6-43ca-b8e1-cadd6e1e5a5d",
   "metadata": {
    "execution": {
     "iopub.execute_input": "2023-12-01T07:50:21.922402Z",
     "iopub.status.busy": "2023-12-01T07:50:21.921942Z",
     "iopub.status.idle": "2023-12-01T07:50:21.927791Z",
     "shell.execute_reply": "2023-12-01T07:50:21.926304Z",
     "shell.execute_reply.started": "2023-12-01T07:50:21.922336Z"
    },
    "tags": []
   },
   "outputs": [],
   "source": [
    "# !pip install --extra-index-url https://google-coral.github.io/py-repo/ tflite_runtime"
   ]
  },
  {
   "cell_type": "code",
   "execution_count": 2,
   "id": "bb786f51-968b-4877-8b58-afe66ad0bbb4",
   "metadata": {
    "execution": {
     "iopub.execute_input": "2023-12-01T07:50:21.938303Z",
     "iopub.status.busy": "2023-12-01T07:50:21.938122Z",
     "iopub.status.idle": "2023-12-01T07:50:22.133772Z",
     "shell.execute_reply": "2023-12-01T07:50:22.132921Z",
     "shell.execute_reply.started": "2023-12-01T07:50:21.938285Z"
    },
    "tags": []
   },
   "outputs": [
    {
     "name": "stderr",
     "output_type": "stream",
     "text": [
      "INFO: Created TensorFlow Lite XNNPACK delegate for CPU.\n"
     ]
    }
   ],
   "source": [
    "import lambda_function"
   ]
  },
  {
   "cell_type": "code",
   "execution_count": 7,
   "id": "4267a7a2-4465-4274-9948-0f51bc379064",
   "metadata": {
    "execution": {
     "iopub.execute_input": "2023-12-01T07:52:12.320442Z",
     "iopub.status.busy": "2023-12-01T07:52:12.320070Z",
     "iopub.status.idle": "2023-12-01T07:52:13.377714Z",
     "shell.execute_reply": "2023-12-01T07:52:13.376931Z",
     "shell.execute_reply.started": "2023-12-01T07:52:12.320419Z"
    },
    "tags": []
   },
   "outputs": [
    {
     "data": {
      "text/plain": [
       "{'prediction': 0.6589840650558472}"
      ]
     },
     "execution_count": 7,
     "metadata": {},
     "output_type": "execute_result"
    }
   ],
   "source": [
    "event = {'url': 'https://habrastorage.org/webt/rt/d9/dh/rtd9dhsmhwrdezeldzoqgijdg8a.jpeg'} \n",
    "\n",
    "lambda_function.lambda_handler(event, None)"
   ]
  },
  {
   "cell_type": "markdown",
   "id": "25047808-ca64-4274-9585-bee5725cf93a",
   "metadata": {},
   "source": [
    "## Docker"
   ]
  },
  {
   "cell_type": "markdown",
   "id": "61d35ed4-329f-4761-9561-6da1a3a86485",
   "metadata": {},
   "source": [
    "## Q5"
   ]
  },
  {
   "cell_type": "markdown",
   "id": "49e98914-8818-4d61-9e21-bef15172da21",
   "metadata": {},
   "source": [
    "Download the base image:\n",
    "\n",
    "```bash\n",
    "$ docker pull agrigorev/zoomcamp-bees-wasps:v2\n",
    "$ docker images\n",
    "```\n",
    "\n",
    "Answer: `662 MB`"
   ]
  },
  {
   "cell_type": "markdown",
   "id": "dacfc70c-d99e-44e4-8b8d-405dbfc2019f",
   "metadata": {},
   "source": [
    "## Q6"
   ]
  },
  {
   "cell_type": "markdown",
   "id": "4efb6018-d7bc-4302-8f76-b0807f7b7075",
   "metadata": {},
   "source": [
    "* Create a Dockerfile from the base image `agrigorev/zoomcamp-bees-wasps:v2`.\n",
    "* Update the model_path (`bees-wasps.tflite`) with the new model `bees-wasps-v2.tflite` in the `lambda_function.py` script.\n",
    "* Build and run the image locally:\n",
    "\n",
    "```bash\n",
    "$ docker build -t bees-wasps-classification .\n",
    "$ docker run -it --rm -p 8080:8080 bees-wasps-classification:latest\n",
    "```\n",
    "\n",
    "* Run the `test.py` script to score this image: https://habrastorage.org/webt/rt/d9/dh/rtd9dhsmhwrdezeldzoqgijdg8a.jpeg\n",
    "\n",
    "```JSON\n",
    "{'prediction': 0.4453350603580475}\n",
    "```\n",
    "\n",
    "Answer: `0.4453`"
   ]
  }
 ],
 "metadata": {
  "kernelspec": {
   "display_name": "saturn (Python 3)",
   "language": "python",
   "name": "python3"
  },
  "language_info": {
   "codemirror_mode": {
    "name": "ipython",
    "version": 3
   },
   "file_extension": ".py",
   "mimetype": "text/x-python",
   "name": "python",
   "nbconvert_exporter": "python",
   "pygments_lexer": "ipython3",
   "version": "3.9.13"
  }
 },
 "nbformat": 4,
 "nbformat_minor": 5
}
