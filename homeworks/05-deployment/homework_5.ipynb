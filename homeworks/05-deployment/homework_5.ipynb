{
 "cells": [
  {
   "cell_type": "markdown",
   "id": "fea8d135-aa16-4344-a757-725e8511beef",
   "metadata": {},
   "source": [
    "## Homework\n",
    "\n",
    "In this homework, we will use Bank credit scoring dataset from [here](https://www.kaggle.com/datasets/kapturovalexander/bank-credit-scoring/data).\n",
    "\n",
    "> **Note**: sometimes your answer doesn't match one of the options exactly. That's fine. \n",
    "Select the option that's closest to your solution.\n",
    "\n",
    "> **Note**: we recommend using python 3.10 in this homework.\n",
    "\n",
    "\n",
    "## Question 1\n",
    "\n",
    "* Install Pipenv\n",
    "* What's the version of pipenv you installed?\n",
    "* Use `--version` to find out\n",
    "\n",
    "\n",
    "## Question 2\n",
    "\n",
    "* Use Pipenv to install Scikit-Learn version 1.3.1\n",
    "* What's the first hash for scikit-learn you get in Pipfile.lock? \n",
    "\n",
    "> **Note**: you should create an empty folder for homework\n",
    "and do it there. \n",
    "\n",
    "\n",
    "## Models\n",
    "\n",
    "We've prepared a dictionary vectorizer and a model.\n",
    "\n",
    "They were trained (roughly) using this code:\n",
    "\n",
    "```python\n",
    "features = ['job','duration', 'poutcome']\n",
    "dicts = df[features].to_dict(orient='records')\n",
    "\n",
    "dv = DictVectorizer(sparse=False)\n",
    "X = dv.fit_transform(dicts)\n",
    "\n",
    "model = LogisticRegression().fit(X, y)\n",
    "```\n",
    "\n",
    "> **Note**: You don't need to train the model. This code is just for your reference.\n",
    "\n",
    "And then saved with Pickle. Download them:\n",
    "\n",
    "* [DictVectorizer](https://github.com/DataTalksClub/machine-learning-zoomcamp/tree/master/cohorts/2023/05-deployment/homework/dv.bin?raw=true)\n",
    "* [LogisticRegression](https://github.com/DataTalksClub/machine-learning-zoomcamp/tree/master/cohorts/2023/05-deployment/homework/model1.bin?raw=true)\n",
    "\n",
    "With `wget`:\n",
    "\n",
    "```bash\n",
    "PREFIX=https://raw.githubusercontent.com/DataTalksClub/machine-learning-zoomcamp/master/cohorts/2023/05-deployment/homework\n",
    "wget $PREFIX/model1.bin\n",
    "wget $PREFIX/dv.bin\n",
    "```\n",
    "\n",
    "\n",
    "## Question 3\n",
    "\n",
    "Let's use these models!\n",
    "\n",
    "* Write a script for loading these models with pickle\n",
    "* Score this client:\n",
    "\n",
    "```json\n",
    "{\"job\": \"retired\", \"duration\": 445, \"poutcome\": \"success\"}\n",
    "```\n",
    "\n",
    "What's the probability that this client will get a credit? \n",
    "\n",
    "* 0.162\n",
    "* 0.392\n",
    "* 0.652\n",
    "* 0.902\n",
    "\n",
    "If you're getting errors when unpickling the files, check their checksum:\n",
    "\n",
    "```bash\n",
    "$ md5sum model1.bin dv.bin\n",
    "8ebfdf20010cfc7f545c43e3b52fc8a1  model1.bin\n",
    "924b496a89148b422c74a62dbc92a4fb  dv.bin\n",
    "```\n",
    "\n",
    "\n",
    "## Question 4\n",
    "\n",
    "Now let's serve this model as a web service\n",
    "\n",
    "* Install Flask and gunicorn (or waitress, if you're on Windows)\n",
    "* Write Flask code for serving the model\n",
    "* Now score this client using `requests`:\n",
    "\n",
    "```python\n",
    "url = \"YOUR_URL\"\n",
    "client = {\"job\": \"unknown\", \"duration\": 270, \"poutcome\": \"failure\"}\n",
    "requests.post(url, json=client).json()\n",
    "```\n",
    "\n",
    "What's the probability that this client will get a credit?\n",
    "\n",
    "* 0.140\n",
    "* 0.440\n",
    "* 0.645\n",
    "* 0.845\n",
    "\n",
    "\n",
    "## Docker\n",
    "\n",
    "Install [Docker](https://github.com/DataTalksClub/machine-learning-zoomcamp/blob/master/05-deployment/06-docker.md). \n",
    "We will use it for the next two questions.\n",
    "\n",
    "For these questions, we prepared a base image: `svizor/zoomcamp-model:3.10.12-slim`. \n",
    "You'll need to use it (see Question 5 for an example).\n",
    "\n",
    "This image is based on `python:3.10.12-slim` and has a logistic regression model \n",
    "(a different one) as well a dictionary vectorizer inside. \n",
    "\n",
    "This is how the Dockerfile for this image looks like:\n",
    "\n",
    "```docker \n",
    "FROM python:3.10.12-slim\n",
    "WORKDIR /app\n",
    "COPY [\"model2.bin\", \"dv.bin\", \"./\"]\n",
    "```\n",
    "\n",
    "We already built it and then pushed it to [`svizor/zoomcamp-model:3.10.12-slim`](https://hub.docker.com/r/svizor/zoomcamp-model).\n",
    "\n",
    "> **Note**: You don't need to build this docker image, it's just for your reference.\n",
    "\n",
    "\n",
    "## Question 5\n",
    "\n",
    "Download the base image `svizor/zoomcamp-model:3.10.12-slim`. You can easily make it by using [docker pull](https://docs.docker.com/engine/reference/commandline/pull/) command.\n",
    "\n",
    "So what's the size of this base image?\n",
    "\n",
    "* 47 MB\n",
    "* 147 MB\n",
    "* 374 MB\n",
    "* 574 MB\n",
    "\n",
    "You can get this information when running `docker images` - it'll be in the \"SIZE\" column.\n",
    "\n",
    "\n",
    "## Dockerfile\n",
    "\n",
    "Now create your own Dockerfile based on the image we prepared.\n",
    "\n",
    "It should start like that:\n",
    "\n",
    "```docker\n",
    "FROM svizor/zoomcamp-model:3.10.12-slim\n",
    "# add your stuff here\n",
    "```\n",
    "\n",
    "Now complete it:\n",
    "\n",
    "* Install all the dependencies form the Pipenv file\n",
    "* Copy your Flask script\n",
    "* Run it with Gunicorn \n",
    "\n",
    "After that, you can build your docker image.\n",
    "\n",
    "\n",
    "## Question 6\n",
    "\n",
    "Let's run your docker container!\n",
    "\n",
    "After running it, score this client once again:\n",
    "\n",
    "```python\n",
    "url = \"YOUR_URL\"\n",
    "client = {\"job\": \"retired\", \"duration\": 445, \"poutcome\": \"success\"}\n",
    "requests.post(url, json=client).json()\n",
    "```\n",
    "\n",
    "What's the probability that this client will get a credit now?\n",
    "\n",
    "* 0.168\n",
    "* 0.530\n",
    "* 0.730\n",
    "* 0.968\n",
    "\n",
    "\n",
    "## Submit the results\n",
    "\n",
    "- Submit your results here: https://forms.gle/gfruq6FGoLass3Ff9\n",
    "- If your answer doesn't match options exactly, select the closest one.\n",
    "- You can submit your solution multiple times. In this case, only the last submission will be used\n",
    "\n",
    "\n",
    "## Deadline\n",
    "\n",
    "The deadline for submitting is October 16 (Monday), 23:00 CET. After that the form will be closed.\n"
   ]
  },
  {
   "cell_type": "markdown",
   "id": "669e086c-95b2-4d97-8c7d-4a36dae7d192",
   "metadata": {},
   "source": [
    "## Q1"
   ]
  },
  {
   "cell_type": "markdown",
   "id": "4239bbe9-4cd0-4d0f-ac5b-f3d56346d3d3",
   "metadata": {},
   "source": [
    "Install pipenv (on the ml-zoomcamp env):\n",
    "```bash\n",
    "$ pip install pipenv\n",
    "```"
   ]
  },
  {
   "cell_type": "markdown",
   "id": "72b01015-85d8-4aa6-92d6-35e6955bf2e0",
   "metadata": {},
   "source": [
    "Answer: ```pipenv==2023.10.3```"
   ]
  },
  {
   "cell_type": "markdown",
   "id": "aa28d5a4-c02a-4bf1-829d-5599c45dcd56",
   "metadata": {},
   "source": [
    "## Q2"
   ]
  },
  {
   "cell_type": "markdown",
   "id": "b3f2ee6a-e4dc-443f-a5c8-fc92961eccd2",
   "metadata": {},
   "source": [
    "Install packages on the pipenv environment:\n",
    "```bash\n",
    "$ pipenv install scikit-learn==0.24.2 flask gunicorn\n",
    "```"
   ]
  },
  {
   "cell_type": "markdown",
   "id": "04f4425a-a80a-4ba1-b082-d6790c0a42de",
   "metadata": {},
   "source": [
    "Answer: ```\"sha256:0c275a06c5190c5ce00af0acbb61c06374087949f643ef32d355ece12c4db043\"```"
   ]
  },
  {
   "cell_type": "markdown",
   "id": "d9783ad7-cf71-46d7-85fc-b4501f44c184",
   "metadata": {},
   "source": [
    "## Q3"
   ]
  },
  {
   "cell_type": "markdown",
   "id": "0c63ee6a-8fe0-4020-b18d-a21ebc49a71d",
   "metadata": {},
   "source": [
    "Run the ```predict_q3.py``` script on the pipenv env which has ```scikit-learn==1.3.1``` installed:\n",
    "```bash\n",
    "$ pipvenv shell\n",
    "$ python predict_q3.py\n",
    "```"
   ]
  },
  {
   "cell_type": "markdown",
   "id": "f9e2959f-4035-4585-8db4-8e26e2352ab6",
   "metadata": {},
   "source": [
    "Answer: ```{'credit_probability': 0.9019309332297606, 'credit': True}```"
   ]
  },
  {
   "cell_type": "markdown",
   "id": "d88927f5-6359-403a-8148-d46355631c15",
   "metadata": {},
   "source": [
    "## Q4"
   ]
  },
  {
   "cell_type": "markdown",
   "id": "14de5fa0-42ee-44a4-904d-e8ed2c27c4d7",
   "metadata": {},
   "source": [
    "Run the Flask app ```predict_q4.py``` on the pipenv environment:\n",
    "```bash\n",
    "$ pipvenv shell\n",
    "$ python predict_q4.py\n",
    "```"
   ]
  },
  {
   "cell_type": "markdown",
   "id": "1bfe1592-511d-43e1-a6c7-a49df064259f",
   "metadata": {},
   "source": [
    "Make a request to the app:"
   ]
  },
  {
   "cell_type": "code",
   "execution_count": 19,
   "id": "0c969d71-5198-49e4-93c8-f15171ed8d7c",
   "metadata": {},
   "outputs": [],
   "source": [
    "import requests"
   ]
  },
  {
   "cell_type": "code",
   "execution_count": 20,
   "id": "2e9c4516-03b0-436d-9751-eb2a2daff026",
   "metadata": {},
   "outputs": [],
   "source": [
    "url = 'http://localhost:9696/predict'"
   ]
  },
  {
   "cell_type": "code",
   "execution_count": 21,
   "id": "86467f5b-1cfd-43cc-96b1-fd417e8b0af1",
   "metadata": {},
   "outputs": [],
   "source": [
    "client = {\"job\": \"unknown\", \"duration\": 270, \"poutcome\": \"failure\"}"
   ]
  },
  {
   "cell_type": "code",
   "execution_count": 23,
   "id": "d72473f3-37ac-4aaa-b4c9-26fe8cb48036",
   "metadata": {},
   "outputs": [
    {
     "data": {
      "text/plain": [
       "{'credit': False, 'credit_probability': 0.13968947052356817}"
      ]
     },
     "execution_count": 23,
     "metadata": {},
     "output_type": "execute_result"
    }
   ],
   "source": [
    "requests.post(url, json=client).json()"
   ]
  },
  {
   "cell_type": "markdown",
   "id": "7b191006-1f4d-44bb-a3cd-e229fbf00874",
   "metadata": {},
   "source": [
    "Answer: 0.140"
   ]
  },
  {
   "cell_type": "markdown",
   "id": "2750a135-ffdf-4bba-901a-277088da4cc1",
   "metadata": {},
   "source": [
    "## Q5"
   ]
  },
  {
   "cell_type": "markdown",
   "id": "55a575d0-7b78-4798-92a7-5a20934dd520",
   "metadata": {},
   "source": [
    "1. Pull the docker image:\n",
    "```bash\n",
    "$ docker pull svizor/zoomcamp-model:3.10.12-slim\n",
    "```\n",
    "2. Review image size:\n",
    "```bash\n",
    "$ docker images\n",
    "``` "
   ]
  },
  {
   "cell_type": "markdown",
   "id": "fd8556da-eb6f-4441-b12e-0037b00c4d3c",
   "metadata": {},
   "source": [
    "Answer: 147 MB"
   ]
  },
  {
   "cell_type": "markdown",
   "id": "b9eb5ad3-5d99-4901-bb9c-34487037bf48",
   "metadata": {},
   "source": [
    "## Q6"
   ]
  },
  {
   "cell_type": "markdown",
   "id": "d4e86e56-ba61-423e-812f-7c42895066d1",
   "metadata": {},
   "source": [
    "1. Create a Dockerfile.\n",
    "2. Build a Docker image:\n",
    "```bash\n",
    "$ docker build -t zoomcamp-week5 .\n",
    "```\n",
    "3. Run a Docker container:\n",
    "```bash\n",
    "$ docker run -it -rm -p 9696:9696 zoomcamp-week5:latest\n",
    "```\n",
    "4. Make an inference using the model served by the container by running the following script (on the ml-zoompcamp env which has the ```requests``` package installed):\n",
    "```bash\n",
    "$ python predict_test_q6.py\n",
    "```\n",
    "5. Optional: Explore the container by opening a Bash terminal:\n",
    "```bash\n",
    "$ docker run -it --rm --entrypoint=bash zoomcamp-week5:latest\n",
    "```"
   ]
  },
  {
   "cell_type": "markdown",
   "id": "a2100ada-322f-4e5c-9f76-2eb849f28c2a",
   "metadata": {},
   "source": [
    "Answer: ```{'credit': True, 'credit_probability': 0.726936946355423}```"
   ]
  }
 ],
 "metadata": {
  "kernelspec": {
   "display_name": "ml-zoomcamp:Python",
   "language": "python",
   "name": "conda-env-ml-zoomcamp-py"
  },
  "language_info": {
   "codemirror_mode": {
    "name": "ipython",
    "version": 3
   },
   "file_extension": ".py",
   "mimetype": "text/x-python",
   "name": "python",
   "nbconvert_exporter": "python",
   "pygments_lexer": "ipython3",
   "version": "3.9.18"
  }
 },
 "nbformat": 4,
 "nbformat_minor": 5
}
